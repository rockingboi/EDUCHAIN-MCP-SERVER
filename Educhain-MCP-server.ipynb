{
  "nbformat": 4,
  "nbformat_minor": 0,
  "metadata": {
    "colab": {
      "provenance": [],
      "include_colab_link": true
    },
    "kernelspec": {
      "name": "python3",
      "display_name": "Python 3"
    },
    "language_info": {
      "name": "python"
    }
  },
  "cells": [
    {
      "cell_type": "markdown",
      "metadata": {
        "id": "view-in-github",
        "colab_type": "text"
      },
      "source": [
        "<a href=\"https://colab.research.google.com/github/rockingboi/EDUCHAIN-MCP-SERVER/blob/main/Educhain-MCP-server.ipynb\" target=\"_parent\"><img src=\"https://colab.research.google.com/assets/colab-badge.svg\" alt=\"Open In Colab\"/></a>"
      ]
    },
    {
      "cell_type": "code",
      "source": [
        "!pip install -qU educhain"
      ],
      "metadata": {
        "id": "-noJRjtX2WBy",
        "colab": {
          "base_uri": "https://localhost:8080/"
        },
        "outputId": "29c0b6ab-fda7-423d-b17c-7f9a604a3351"
      },
      "execution_count": null,
      "outputs": [
        {
          "output_type": "stream",
          "name": "stdout",
          "text": [
            "\u001b[?25l     \u001b[90m━━━━━━━━━━━━━━━━━━━━━━━━━━━━━━━━━━━━━━━━\u001b[0m \u001b[32m0.0/67.3 kB\u001b[0m \u001b[31m?\u001b[0m eta \u001b[36m-:--:--\u001b[0m\r\u001b[2K     \u001b[90m━━━━━━━━━━━━━━━━━━━━━━━━━━━━━━━━━━━━━━━━\u001b[0m \u001b[32m67.3/67.3 kB\u001b[0m \u001b[31m3.1 MB/s\u001b[0m eta \u001b[36m0:00:00\u001b[0m\n",
            "\u001b[?25h  Installing build dependencies ... \u001b[?25l\u001b[?25hdone\n",
            "  Getting requirements to build wheel ... \u001b[?25l\u001b[?25hdone\n",
            "  Preparing metadata (pyproject.toml) ... \u001b[?25l\u001b[?25hdone\n",
            "\u001b[2K   \u001b[90m━━━━━━━━━━━━━━━━━━━━━━━━━━━━━━━━━━━━━━━━\u001b[0m \u001b[32m294.6/294.6 kB\u001b[0m \u001b[31m10.4 MB/s\u001b[0m eta \u001b[36m0:00:00\u001b[0m\n",
            "\u001b[2K   \u001b[90m━━━━━━━━━━━━━━━━━━━━━━━━━━━━━━━━━━━━━━━━\u001b[0m \u001b[32m19.0/19.0 MB\u001b[0m \u001b[31m94.7 MB/s\u001b[0m eta \u001b[36m0:00:00\u001b[0m\n",
            "\u001b[2K   \u001b[90m━━━━━━━━━━━━━━━━━━━━━━━━━━━━━━━━━━━━━━━━\u001b[0m \u001b[32m94.9/94.9 kB\u001b[0m \u001b[31m7.4 MB/s\u001b[0m eta \u001b[36m0:00:00\u001b[0m\n",
            "\u001b[2K   \u001b[90m━━━━━━━━━━━━━━━━━━━━━━━━━━━━━━━━━━━━━━━━\u001b[0m \u001b[32m6.7/6.7 MB\u001b[0m \u001b[31m5.7 MB/s\u001b[0m eta \u001b[36m0:00:00\u001b[0m\n",
            "\u001b[2K   \u001b[90m━━━━━━━━━━━━━━━━━━━━━━━━━━━━━━━━━━━━━━━━\u001b[0m \u001b[32m2.5/2.5 MB\u001b[0m \u001b[31m89.0 MB/s\u001b[0m eta \u001b[36m0:00:00\u001b[0m\n",
            "\u001b[2K   \u001b[90m━━━━━━━━━━━━━━━━━━━━━━━━━━━━━━━━━━━━━━━━\u001b[0m \u001b[32m44.3/44.3 kB\u001b[0m \u001b[31m3.4 MB/s\u001b[0m eta \u001b[36m0:00:00\u001b[0m\n",
            "\u001b[2K   \u001b[90m━━━━━━━━━━━━━━━━━━━━━━━━━━━━━━━━━━━━━━━━\u001b[0m \u001b[32m63.4/63.4 kB\u001b[0m \u001b[31m4.7 MB/s\u001b[0m eta \u001b[36m0:00:00\u001b[0m\n",
            "\u001b[2K   \u001b[90m━━━━━━━━━━━━━━━━━━━━━━━━━━━━━━━━━━━━━━━━\u001b[0m \u001b[32m232.6/232.6 kB\u001b[0m \u001b[31m18.3 MB/s\u001b[0m eta \u001b[36m0:00:00\u001b[0m\n",
            "\u001b[2K   \u001b[90m━━━━━━━━━━━━━━━━━━━━━━━━━━━━━━━━━━━━━━━━\u001b[0m \u001b[32m2.0/2.0 MB\u001b[0m \u001b[31m73.7 MB/s\u001b[0m eta \u001b[36m0:00:00\u001b[0m\n",
            "\u001b[2K   \u001b[90m━━━━━━━━━━━━━━━━━━━━━━━━━━━━━━━━━━━━━━━━\u001b[0m \u001b[32m2.2/2.2 MB\u001b[0m \u001b[31m83.2 MB/s\u001b[0m eta \u001b[36m0:00:00\u001b[0m\n",
            "\u001b[2K   \u001b[90m━━━━━━━━━━━━━━━━━━━━━━━━━━━━━━━━━━━━━━━━\u001b[0m \u001b[32m284.2/284.2 kB\u001b[0m \u001b[31m22.2 MB/s\u001b[0m eta \u001b[36m0:00:00\u001b[0m\n",
            "\u001b[2K   \u001b[90m━━━━━━━━━━━━━━━━━━━━━━━━━━━━━━━━━━━━━━━━\u001b[0m \u001b[32m1.4/1.4 MB\u001b[0m \u001b[31m69.6 MB/s\u001b[0m eta \u001b[36m0:00:00\u001b[0m\n",
            "\u001b[2K   \u001b[90m━━━━━━━━━━━━━━━━━━━━━━━━━━━━━━━━━━━━━━━━\u001b[0m \u001b[32m1.6/1.6 MB\u001b[0m \u001b[31m71.9 MB/s\u001b[0m eta \u001b[36m0:00:00\u001b[0m\n",
            "\u001b[2K   \u001b[90m━━━━━━━━━━━━━━━━━━━━━━━━━━━━━━━━━━━━━━━━\u001b[0m \u001b[32m2.0/2.0 MB\u001b[0m \u001b[31m71.3 MB/s\u001b[0m eta \u001b[36m0:00:00\u001b[0m\n",
            "\u001b[2K   \u001b[90m━━━━━━━━━━━━━━━━━━━━━━━━━━━━━━━━━━━━━━━━\u001b[0m \u001b[32m438.4/438.4 kB\u001b[0m \u001b[31m29.9 MB/s\u001b[0m eta \u001b[36m0:00:00\u001b[0m\n",
            "\u001b[2K   \u001b[90m━━━━━━━━━━━━━━━━━━━━━━━━━━━━━━━━━━━━━━━━\u001b[0m \u001b[32m101.6/101.6 kB\u001b[0m \u001b[31m8.9 MB/s\u001b[0m eta \u001b[36m0:00:00\u001b[0m\n",
            "\u001b[2K   \u001b[90m━━━━━━━━━━━━━━━━━━━━━━━━━━━━━━━━━━━━━━━━\u001b[0m \u001b[32m16.4/16.4 MB\u001b[0m \u001b[31m50.0 MB/s\u001b[0m eta \u001b[36m0:00:00\u001b[0m\n",
            "\u001b[2K   \u001b[90m━━━━━━━━━━━━━━━━━━━━━━━━━━━━━━━━━━━━━━━━\u001b[0m \u001b[32m52.5/52.5 kB\u001b[0m \u001b[31m3.9 MB/s\u001b[0m eta \u001b[36m0:00:00\u001b[0m\n",
            "\u001b[2K   \u001b[90m━━━━━━━━━━━━━━━━━━━━━━━━━━━━━━━━━━━━━━━━\u001b[0m \u001b[32m149.7/149.7 kB\u001b[0m \u001b[31m12.3 MB/s\u001b[0m eta \u001b[36m0:00:00\u001b[0m\n",
            "\u001b[2K   \u001b[90m━━━━━━━━━━━━━━━━━━━━━━━━━━━━━━━━━━━━━━━━\u001b[0m \u001b[32m64.0/64.0 kB\u001b[0m \u001b[31m5.0 MB/s\u001b[0m eta \u001b[36m0:00:00\u001b[0m\n",
            "\u001b[2K   \u001b[90m━━━━━━━━━━━━━━━━━━━━━━━━━━━━━━━━━━━━━━━━\u001b[0m \u001b[32m110.5/110.5 kB\u001b[0m \u001b[31m8.8 MB/s\u001b[0m eta \u001b[36m0:00:00\u001b[0m\n",
            "\u001b[2K   \u001b[90m━━━━━━━━━━━━━━━━━━━━━━━━━━━━━━━━━━━━━━━━\u001b[0m \u001b[32m96.7/96.7 kB\u001b[0m \u001b[31m8.4 MB/s\u001b[0m eta \u001b[36m0:00:00\u001b[0m\n",
            "\u001b[2K   \u001b[90m━━━━━━━━━━━━━━━━━━━━━━━━━━━━━━━━━━━━━━━━\u001b[0m \u001b[32m44.4/44.4 kB\u001b[0m \u001b[31m4.2 MB/s\u001b[0m eta \u001b[36m0:00:00\u001b[0m\n",
            "\u001b[2K   \u001b[90m━━━━━━━━━━━━━━━━━━━━━━━━━━━━━━━━━━━━━━━━\u001b[0m \u001b[32m62.5/62.5 kB\u001b[0m \u001b[31m5.0 MB/s\u001b[0m eta \u001b[36m0:00:00\u001b[0m\n",
            "\u001b[2K   \u001b[90m━━━━━━━━━━━━━━━━━━━━━━━━━━━━━━━━━━━━━━━━\u001b[0m \u001b[32m385.7/385.7 kB\u001b[0m \u001b[31m28.4 MB/s\u001b[0m eta \u001b[36m0:00:00\u001b[0m\n",
            "\u001b[2K   \u001b[90m━━━━━━━━━━━━━━━━━━━━━━━━━━━━━━━━━━━━━━━━\u001b[0m \u001b[32m45.1/45.1 MB\u001b[0m \u001b[31m22.0 MB/s\u001b[0m eta \u001b[36m0:00:00\u001b[0m\n",
            "\u001b[2K   \u001b[90m━━━━━━━━━━━━━━━━━━━━━━━━━━━━━━━━━━━━━━━━\u001b[0m \u001b[32m459.8/459.8 kB\u001b[0m \u001b[31m29.6 MB/s\u001b[0m eta \u001b[36m0:00:00\u001b[0m\n",
            "\u001b[2K   \u001b[90m━━━━━━━━━━━━━━━━━━━━━━━━━━━━━━━━━━━━━━━━\u001b[0m \u001b[32m50.9/50.9 kB\u001b[0m \u001b[31m4.5 MB/s\u001b[0m eta \u001b[36m0:00:00\u001b[0m\n",
            "\u001b[2K   \u001b[90m━━━━━━━━━━━━━━━━━━━━━━━━━━━━━━━━━━━━━━━━\u001b[0m \u001b[32m71.5/71.5 kB\u001b[0m \u001b[31m6.5 MB/s\u001b[0m eta \u001b[36m0:00:00\u001b[0m\n",
            "\u001b[2K   \u001b[90m━━━━━━━━━━━━━━━━━━━━━━━━━━━━━━━━━━━━━━━━\u001b[0m \u001b[32m4.0/4.0 MB\u001b[0m \u001b[31m101.6 MB/s\u001b[0m eta \u001b[36m0:00:00\u001b[0m\n",
            "\u001b[2K   \u001b[90m━━━━━━━━━━━━━━━━━━━━━━━━━━━━━━━━━━━━━━━━\u001b[0m \u001b[32m454.8/454.8 kB\u001b[0m \u001b[31m29.3 MB/s\u001b[0m eta \u001b[36m0:00:00\u001b[0m\n",
            "\u001b[2K   \u001b[90m━━━━━━━━━━━━━━━━━━━━━━━━━━━━━━━━━━━━━━━━\u001b[0m \u001b[32m46.0/46.0 kB\u001b[0m \u001b[31m3.7 MB/s\u001b[0m eta \u001b[36m0:00:00\u001b[0m\n",
            "\u001b[2K   \u001b[90m━━━━━━━━━━━━━━━━━━━━━━━━━━━━━━━━━━━━━━━━\u001b[0m \u001b[32m86.8/86.8 kB\u001b[0m \u001b[31m7.8 MB/s\u001b[0m eta \u001b[36m0:00:00\u001b[0m\n",
            "\u001b[?25h  Building wheel for pypika (pyproject.toml) ... \u001b[?25l\u001b[?25hdone\n",
            "\u001b[31mERROR: pip's dependency resolver does not currently take into account all the packages that are installed. This behaviour is the source of the following dependency conflicts.\n",
            "google-generativeai 0.8.5 requires google-ai-generativelanguage==0.6.15, but you have google-ai-generativelanguage 0.6.18 which is incompatible.\n",
            "ydf 0.12.0 requires protobuf<6.0.0,>=5.29.1, but you have protobuf 4.25.7 which is incompatible.\u001b[0m\u001b[31m\n",
            "\u001b[0m"
          ]
        }
      ]
    },
    {
      "cell_type": "markdown",
      "source": [
        "##Set up your API Key\n",
        "Default is set to OPENAI"
      ],
      "metadata": {
        "id": "W3RchxE680fG"
      }
    },
    {
      "cell_type": "code",
      "execution_count": null,
      "metadata": {
        "id": "kDUDzEXr2Rjr"
      },
      "outputs": [],
      "source": [
        "import os\n",
        "from google.colab import userdata\n",
        "\n",
        "os.environ[\"OPENAI_API_KEY\"] = userdata.get('OPENAI_API_KEY_2')\n",
        "os.environ[\"ANTHROPIC_API_KEY\"] = userdata.get(\"ANTHROPIC_API_KEY\")\n",
        "os.environ[\"GOOGLE_API_KEY\"] = userdata.get(\"GOOGLE_API_KEY\")"
      ]
    },
    {
      "cell_type": "markdown",
      "source": [
        "## Quickstart\n",
        "\n",
        "Create MCQs just by entering the topic"
      ],
      "metadata": {
        "id": "DNC1XUK54VcX"
      }
    },
    {
      "cell_type": "code",
      "source": [
        "from educhain import Educhain\n",
        "\n",
        "client = Educhain() # Deafault gpt-4o-mini Model\n",
        "\n",
        "ques = client.qna_engine.generate_questions(topic=\"Newton's Law of Motion\",\n",
        "                                            num=5)\n",
        "print(ques)\n",
        "ques.model_dump_json()   #you can Generate Dictionaries with this ques.model_dump()"
      ],
      "metadata": {
        "id": "z7WSAw0m45JH",
        "colab": {
          "base_uri": "https://localhost:8080/",
          "height": 181
        },
        "outputId": "e1b7db25-54c7-4737-b886-c6eef2b1c8df"
      },
      "execution_count": null,
      "outputs": [
        {
          "output_type": "stream",
          "name": "stdout",
          "text": [
            "questions=[MultipleChoiceQuestion(question=\"What does Newton's First Law of Motion state?\", answer='An object at rest stays at rest and an object in motion stays in motion unless acted upon by an external force.', explanation='This law emphasizes the concept of inertia, which is the tendency of objects to resist changes in their state of motion.', options=['An object at rest stays at rest and an object in motion stays in motion unless acted upon by an external force.', 'The acceleration of an object is directly proportional to the net force acting on it and inversely proportional to its mass.', 'For every action, there is an equal and opposite reaction.', 'The weight of an object is equal to its mass multiplied by its velocity.']), MultipleChoiceQuestion(question=\"Which of the following best describes Newton's Second Law of Motion?\", answer='The acceleration of an object is directly proportional to the net force acting on it and inversely proportional to its mass.', explanation='This law is often summarized by the equation F=ma, where F is the force applied, m is the mass, and a is the acceleration.', options=['An object at rest stays at rest and an object in motion stays in motion unless acted upon by an external force.', 'The acceleration of an object is directly proportional to the net force acting on it and inversely proportional to its mass.', 'For every action, there is an equal and opposite reaction.', 'The total momentum of an isolated system remains constant.']), MultipleChoiceQuestion(question=\"What does Newton's Third Law of Motion state?\", answer='For every action, there is an equal and opposite reaction.', explanation='This law implies that forces always occur in pairs; when one object exerts a force on another, the second object exerts a force of equal magnitude in the opposite direction on the first object.', options=['An object at rest stays at rest and an object in motion stays in motion unless acted upon by an external force.', 'The acceleration of an object is directly proportional to the net force acting on it and inversely proportional to its mass.', 'For every action, there is an equal and opposite reaction.', 'The force of gravity is the only force acting on falling objects.']), MultipleChoiceQuestion(question=\"How does mass affect the acceleration of an object according to Newton's Second Law?\", answer='The greater the mass of an object, the less acceleration it will have for a given force.', explanation='This inverse relationship means that as mass increases, acceleration decreases if the same force is applied.', options=['The greater the mass of an object, the less acceleration it will have for a given force.', 'Mass has no effect on acceleration.', 'Mass increases acceleration proportionally.', 'The acceleration remains constant regardless of mass.']), MultipleChoiceQuestion(question='If a car accelerates from rest to a speed of 20 m/s in 10 seconds, what is its acceleration?', answer='2 m/s²', explanation='Acceleration is calculated by the change in velocity divided by the time taken. Here, (20 m/s - 0 m/s) / 10 s = 2 m/s².', options=['1 m/s²', '2 m/s²', '3 m/s²', '4 m/s²'])]\n"
          ]
        },
        {
          "output_type": "execute_result",
          "data": {
            "text/plain": [
              "'{\"questions\":[{\"question\":\"What does Newton\\'s First Law of Motion state?\",\"answer\":\"An object at rest stays at rest and an object in motion stays in motion unless acted upon by an external force.\",\"explanation\":\"This law emphasizes the concept of inertia, which is the tendency of objects to resist changes in their state of motion.\",\"options\":[\"An object at rest stays at rest and an object in motion stays in motion unless acted upon by an external force.\",\"The acceleration of an object is directly proportional to the net force acting on it and inversely proportional to its mass.\",\"For every action, there is an equal and opposite reaction.\",\"The weight of an object is equal to its mass multiplied by its velocity.\"]},{\"question\":\"Which of the following best describes Newton\\'s Second Law of Motion?\",\"answer\":\"The acceleration of an object is directly proportional to the net force acting on it and inversely proportional to its mass.\",\"explanation\":\"This law is often summarized by the equation F=ma, where F is the force applied, m is the mass, and a is the acceleration.\",\"options\":[\"An object at rest stays at rest and an object in motion stays in motion unless acted upon by an external force.\",\"The acceleration of an object is directly proportional to the net force acting on it and inversely proportional to its mass.\",\"For every action, there is an equal and opposite reaction.\",\"The total momentum of an isolated system remains constant.\"]},{\"question\":\"What does Newton\\'s Third Law of Motion state?\",\"answer\":\"For every action, there is an equal and opposite reaction.\",\"explanation\":\"This law implies that forces always occur in pairs; when one object exerts a force on another, the second object exerts a force of equal magnitude in the opposite direction on the first object.\",\"options\":[\"An object at rest stays at rest and an object in motion stays in motion unless acted upon by an external force.\",\"The acceleration of an object is directly proportional to the net force acting on it and inversely proportional to its mass.\",\"For every action, there is an equal and opposite reaction.\",\"The force of gravity is the only force acting on falling objects.\"]},{\"question\":\"How does mass affect the acceleration of an object according to Newton\\'s Second Law?\",\"answer\":\"The greater the mass of an object, the less acceleration it will have for a given force.\",\"explanation\":\"This inverse relationship means that as mass increases, acceleration decreases if the same force is applied.\",\"options\":[\"The greater the mass of an object, the less acceleration it will have for a given force.\",\"Mass has no effect on acceleration.\",\"Mass increases acceleration proportionally.\",\"The acceleration remains constant regardless of mass.\"]},{\"question\":\"If a car accelerates from rest to a speed of 20 m/s in 10 seconds, what is its acceleration?\",\"answer\":\"2 m/s²\",\"explanation\":\"Acceleration is calculated by the change in velocity divided by the time taken. Here, (20 m/s - 0 m/s) / 10 s = 2 m/s².\",\"options\":[\"1 m/s²\",\"2 m/s²\",\"3 m/s²\",\"4 m/s²\"]}]}'"
            ],
            "application/vnd.google.colaboratory.intrinsic+json": {
              "type": "string"
            }
          },
          "metadata": {},
          "execution_count": 91
        }
      ]
    },
    {
      "cell_type": "markdown",
      "source": [
        "You can also pass level, number of questions and custom instructions as an input"
      ],
      "metadata": {
        "id": "KFNs3ZE16bZE"
      }
    },
    {
      "cell_type": "code",
      "source": [
        "from educhain import Educhain\n",
        "\n",
        "client = Educhain()\n",
        "\n",
        "result = client.qna_engine.generate_questions(\n",
        "    topic=\"Indian History\",\n",
        "    level=\"Intermediate\",\n",
        "    num=2,\n",
        "    custom_instructions=\"Focus on Independence movements\"\n",
        ")\n",
        "\n",
        "result.model_dump_json()"
      ],
      "metadata": {
        "colab": {
          "base_uri": "https://localhost:8080/",
          "height": 143
        },
        "id": "EwPH6mpd2oi-",
        "outputId": "e71fd719-39f4-44d8-8fd2-05d010b69d74"
      },
      "execution_count": null,
      "outputs": [
        {
          "output_type": "execute_result",
          "data": {
            "text/plain": [
              "'{\"questions\":[{\"question\":\"What was the primary goal of the Indian National Congress when it was founded in 1885?\",\"answer\":\"To obtain a greater share in government for educated Indians.\",\"explanation\":\"The Indian National Congress was formed to provide a platform for educated Indians to voice their concerns and demands for political rights and representation in governance.\",\"options\":[\"To establish a monarchy in India\",\"To obtain a greater share in government for educated Indians.\",\"To promote British colonial rule\",\"To secure independence through violent means\"]},{\"question\":\"Which movement was launched by Mahatma Gandhi in 1930 to challenge the British salt tax?\",\"answer\":\"Salt March (Dandi March)\",\"explanation\":\"The Salt March was a nonviolent protest led by Gandhi against the British salt monopoly and tax, symbolizing the broader struggle for Indian independence.\",\"options\":[\"Non-Cooperation Movement\",\"Civil Disobedience Movement\",\"Salt March (Dandi March)\",\"Quit India Movement\"]}]}'"
            ],
            "application/vnd.google.colaboratory.intrinsic+json": {
              "type": "string"
            }
          },
          "metadata": {},
          "execution_count": 25
        }
      ]
    },
    {
      "cell_type": "code",
      "source": [
        "result.show()"
      ],
      "metadata": {
        "colab": {
          "base_uri": "https://localhost:8080/"
        },
        "id": "EGJ8LE8d90Sl",
        "outputId": "4266128e-4027-4fe3-da70-7f7ae59ae4e4"
      },
      "execution_count": null,
      "outputs": [
        {
          "output_type": "stream",
          "name": "stdout",
          "text": [
            "Question 1:\n",
            "Question: What was the primary goal of the Indian National Congress when it was founded in 1885?\n",
            "Options:\n",
            "  A. To establish a monarchy in India\n",
            "  B. To obtain a greater share in government for educated Indians.\n",
            "  C. To promote British colonial rule\n",
            "  D. To secure independence through violent means\n",
            "\n",
            "Correct Answer: To obtain a greater share in government for educated Indians.\n",
            "Explanation: The Indian National Congress was formed to provide a platform for educated Indians to voice their concerns and demands for political rights and representation in governance.\n",
            "\n",
            "Question 2:\n",
            "Question: Which movement was launched by Mahatma Gandhi in 1930 to challenge the British salt tax?\n",
            "Options:\n",
            "  A. Non-Cooperation Movement\n",
            "  B. Civil Disobedience Movement\n",
            "  C. Salt March (Dandi March)\n",
            "  D. Quit India Movement\n",
            "\n",
            "Correct Answer: Salt March (Dandi March)\n",
            "Explanation: The Salt March was a nonviolent protest led by Gandhi against the British salt monopoly and tax, symbolizing the broader struggle for Indian independence.\n",
            "\n"
          ]
        }
      ]
    },
    {
      "cell_type": "markdown",
      "source": [
        "### Using Custom Prompt Templates\n",
        "\n",
        "You can create your own prompt templates and customize it with various input fields"
      ],
      "metadata": {
        "id": "ruSNPE_I7_YH"
      }
    },
    {
      "cell_type": "code",
      "source": [
        "from educhain import Educhain\n",
        "\n",
        "client = Educhain()\n",
        "\n",
        "custom_template = \"\"\"\n",
        "Generate {num} multiple-choice question (MCQ) based on the given topic and level.\n",
        "Provide the question, four answer options, and the correct answer.\n",
        "Topic: {topic}\n",
        "Learning Objective: {learning_objective}\n",
        "Difficulty Level: {difficulty_level}\n",
        "\"\"\"\n",
        "\n",
        "ques = client.qna_engine.generate_questions(\n",
        "    topic=\"Python Programming\",\n",
        "    num=5,\n",
        "    learning_objective=\"Usage of Python classes\",\n",
        "    difficulty_level=\"Hard\",\n",
        "    prompt_template=custom_template,\n",
        ")\n",
        "\n",
        "print(ques)"
      ],
      "metadata": {
        "colab": {
          "base_uri": "https://localhost:8080/"
        },
        "id": "TCZFFS418Muq",
        "outputId": "6ac382af-12ed-46a8-ebda-533d48de7c08"
      },
      "execution_count": null,
      "outputs": [
        {
          "output_type": "stream",
          "name": "stdout",
          "text": [
            "questions=[MultipleChoiceQuestion(question='What is the output of the following code? \\n\\nclass A:\\n    def __init__(self):\\n        self.x = 10\\n\\nclass B(A):\\n    def __init__(self):\\n        super().__init__()\\n        self.y = 20\\n\\nb = B()\\nprint(b.x + b.y)', answer='30', explanation='The class B inherits from class A and calls its constructor, so b.x is 10 and b.y is 20. Therefore, the output is 30.', options=['30', '20', '10', 'Error']), MultipleChoiceQuestion(question=\"Given the following class definitions, what will be the output of the print statement? \\n\\nclass Parent:\\n    def __init__(self):\\n        self.value = 'Parent'\\n\\nclass Child(Parent):\\n    def __init__(self):\\n        self.value = 'Child'\\n        super().__init__()\\n\\nchild = Child()\\nprint(child.value)\", answer='Child', explanation=\"In the Child class, self.value is set to 'Child' before calling the Parent's constructor, so when we print child.value, it outputs 'Child'.\", options=['Parent', 'Child', 'None', 'Error']), MultipleChoiceQuestion(question=\"What will happen when you attempt to access the 'z' attribute of an instance of the following class? \\n\\nclass MyClass:\\n    def __init__(self):\\n        self.x = 5\\n        self.y = 10\\n\\nobj = MyClass()\\nprint(obj.z)\", answer='AttributeError', explanation=\"The attribute 'z' is not defined in MyClass, so trying to access obj.z will raise an AttributeError.\", options=['5', '10', 'AttributeError', 'None']), MultipleChoiceQuestion(question=\"What will be the output of this code snippet? \\n\\nclass Test:\\n    def __init__(self, value):\\n        self.value = value\\n\\n    def display(self):\\n        print(self.value)\\n\\nobj = Test('Hello')\\nobj.display()\", answer='Hello', explanation=\"The display method prints the value attribute of the object, which is initialized to 'Hello'.\", options=['Hello', 'None', 'Error', 'ValueError']), MultipleChoiceQuestion(question=\"What does the following code print? \\n\\nclass Base:\\n    def __init__(self):\\n        self.name = 'Base'\\n\\nclass Derived(Base):\\n    def __init__(self):\\n        super().__init__()\\n        self.name = 'Derived'\\n\\nobj = Derived()\\nprint(obj.name)\", answer='Derived', explanation=\"The Derived class calls the Base class constructor first, which sets name to 'Base', but then it immediately overwrites it to 'Derived'.\", options=['Base', 'Derived', 'None', 'Error'])]\n"
          ]
        }
      ]
    },
    {
      "cell_type": "code",
      "source": [
        "ques.show()"
      ],
      "metadata": {
        "id": "Dgr14AyJ9-ix"
      },
      "execution_count": null,
      "outputs": []
    },
    {
      "cell_type": "markdown",
      "source": [
        "### Using Custom Models\n",
        "\n",
        "You can create a custom response output using Pydantic"
      ],
      "metadata": {
        "id": "a1SZALI_9ZoP"
      }
    },
    {
      "cell_type": "code",
      "source": [
        "  # Custom Model\n",
        "from typing import List, Dict, Any, Optional\n",
        "from pydantic import BaseModel, Field, validator\n",
        "\n",
        "class Optioncustom(BaseModel):\n",
        "    text: str = Field(description=\"The text of the option.\")\n",
        "    correct: str = Field(description=\"Whether the option is correct or not. Either 'true' or 'false'\")\n",
        "\n",
        "\n",
        "class MCQcustom(BaseModel):\n",
        "    question: str = Field(description=\"The quiz question\")\n",
        "    options: List[Optioncustom] = Field(description=\"The possible answers to the question. The list should contain 4 options.\")\n",
        "    explanation: str = Field(default=None, description=\"Explanation of the question\")\n",
        "    blooms_level: str = Field(default=None, description=\"The Bloom's taxonomy level of the question\")\n",
        "    difficulty_level: str = Field(default=None, description=\"The difficulty level of the question. Can be 'easy', 'medium' or 'hard' mapping to the difficulty rating\")\n",
        "    difficulty_rating: int = Field(ge=1, le=5, description=\"The difficulty rating of the question (1-3)\")\n",
        "    metadata: Dict[str, Any] = Field(default={}, description=\"Additional metadata for the question. Like topic, subtopic etc\")\n",
        "\n",
        "    @property\n",
        "    def correct_answer(self):\n",
        "        for option in self.options:\n",
        "            if option.correct.lower() == 'true':\n",
        "                return option.text\n",
        "        return None\n",
        "\n",
        "    def show(self):\n",
        "        options_str = \"\\n\".join(f\"  {chr(65 + i)}. {option.text}\" for i, option in enumerate(self.options))\n",
        "        print(f\"Question: {self.question}\\nOptions:\\n{options_str}\")\n",
        "        print(f\"Correct Answer: {self.correct_answer}\")\n",
        "        print(f\"Explanation: {self.explanation}\")\n",
        "        print(f\"Bloom's Level: {self.blooms_level}\")\n",
        "        print(f\"Difficulty Level: {self.difficulty_level}\")\n",
        "        print(f\"Difficulty Rating: {self.difficulty_rating}\")\n",
        "        print(f\"Metadata: {self.metadata}\\n\")\n",
        "\n",
        "\n",
        "class MCQListcustom(BaseModel):\n",
        "    questions: List[MCQcustom]\n",
        "\n",
        "    def show(self):\n",
        "        print(\"MCQs:\\n\")\n",
        "        for i, mcq in enumerate(self.questions, start=1):\n",
        "            print(f\"Question {i}:\")\n",
        "            mcq.show()"
      ],
      "metadata": {
        "id": "wG2Kgh5k-NPY"
      },
      "execution_count": null,
      "outputs": []
    },
    {
      "cell_type": "code",
      "source": [
        "from educhain import Educhain\n",
        "\n",
        "client = Educhain()\n",
        "\n",
        "result = client.qna_engine.generate_questions(\n",
        "    topic=\"Indian Geography\",\n",
        "    num=3,\n",
        "    response_model = MCQListcustom\n",
        ")\n",
        "\n",
        "result"
      ],
      "metadata": {
        "id": "LmDjAnZc-cV2"
      },
      "execution_count": null,
      "outputs": []
    },
    {
      "cell_type": "code",
      "source": [
        "result.show()"
      ],
      "metadata": {
        "colab": {
          "base_uri": "https://localhost:8080/"
        },
        "id": "DvELP4kIAEXy",
        "outputId": "118c1de5-263c-43f5-c089-fdec3e7753b2"
      },
      "execution_count": null,
      "outputs": [
        {
          "output_type": "stream",
          "name": "stdout",
          "text": [
            "MCQs:\n",
            "\n",
            "Question 1:\n",
            "Question: Which is the longest river in India?\n",
            "Options:\n",
            "  A. Ganges\n",
            "  B. Brahmaputra\n",
            "  C. Indus\n",
            "  D. Yamuna\n",
            "Correct Answer: Indus\n",
            "Explanation: The Indus River is one of the longest rivers in the world and flows through India, making it the longest river in India.\n",
            "Bloom's Level: Remembering\n",
            "Difficulty Level: medium\n",
            "Difficulty Rating: 2\n",
            "Metadata: {'topic': 'Indian Geography', 'subtopic': 'Rivers'}\n",
            "\n",
            "Question 2:\n",
            "Question: Which state is known as the 'Land of Five Rivers'?\n",
            "Options:\n",
            "  A. Punjab\n",
            "  B. Haryana\n",
            "  C. Uttar Pradesh\n",
            "  D. Maharashtra\n",
            "Correct Answer: Punjab\n",
            "Explanation: Punjab means 'Land of Five Rivers', as it is home to the Beas, Chenab, Jhelum, Ravi, and Sutlej rivers.\n",
            "Bloom's Level: Understanding\n",
            "Difficulty Level: easy\n",
            "Difficulty Rating: 1\n",
            "Metadata: {'topic': 'Indian Geography', 'subtopic': 'States'}\n",
            "\n",
            "Question 3:\n",
            "Question: What is the highest peak in India?\n",
            "Options:\n",
            "  A. K2\n",
            "  B. Kangchenjunga\n",
            "  C. Nanda Devi\n",
            "  D. Mount Everest\n",
            "Correct Answer: Kangchenjunga\n",
            "Explanation: Kangchenjunga is the highest peak in India, standing at 8,586 meters (28,169 feet) and is located on the India-Nepal border.\n",
            "Bloom's Level: Applying\n",
            "Difficulty Level: hard\n",
            "Difficulty Rating: 3\n",
            "Metadata: {'topic': 'Indian Geography', 'subtopic': 'Mountains'}\n",
            "\n"
          ]
        }
      ]
    },
    {
      "cell_type": "markdown",
      "source": [
        "###Using Custom Response Models with Custom Prompts"
      ],
      "metadata": {
        "id": "Q_uLwpo6-1eh"
      }
    },
    {
      "cell_type": "code",
      "source": [
        "from educhain import Educhain\n",
        "\n",
        "client = Educhain()\n",
        "\n",
        "custom_template = \"\"\"\n",
        "Generate {num} multiple-choice question (MCQ) based on the given topic and level.\n",
        "Provide the question, four answer options, and the correct answer.\n",
        "\n",
        "Topic: {topic}\n",
        "Difficulty Level: {difficulty_level}\n",
        "Learning Objective: {learning_objective}\n",
        "\"\"\"\n",
        "\n",
        "result = client.qna_engine.generate_questions(\n",
        "    topic=\"Python Programming\",\n",
        "    num=2,\n",
        "    difficulty_level = \"Very hard\",\n",
        "    learning_objective = \"Python classes\",\n",
        "    prompt_template=custom_template,\n",
        "    response_model = MCQListcustom\n",
        ")\n",
        "\n",
        "result"
      ],
      "metadata": {
        "colab": {
          "base_uri": "https://localhost:8080/"
        },
        "id": "1X1VsYxf2Yww",
        "outputId": "69136367-dcfa-478d-eeb3-5ef265e38cf3"
      },
      "execution_count": null,
      "outputs": [
        {
          "output_type": "execute_result",
          "data": {
            "text/plain": [
              "MCQListcustom(questions=[MCQcustom(question='What is the output of the following code?\\n\\nclass A:\\n    def __init__(self):\\n        self.x = 10\\n\\nclass B(A):\\n    def __init__(self):\\n        super().__init__()\\n        self.y = 20\\n\\nobj = B()\\nprint(obj.x, obj.y)', options=[Optioncustom(text='10 20', correct='true'), Optioncustom(text='20 10', correct='false'), Optioncustom(text='10 None', correct='false'), Optioncustom(text='Error', correct='false')], explanation=\"The output is '10 20' because the constructor of class A is called using super(), initializing x to 10, and y is set to 20 in class B's constructor.\", blooms_level='Understanding', difficulty_level='very hard', difficulty_rating=5, metadata={'topic': 'Python classes', 'subtopic': 'Inheritance'}), MCQcustom(question=\"Consider the following code snippet:\\n\\nclass Parent:\\n    def __init__(self):\\n        self.value = 'Parent'\\n\\nclass Child(Parent):\\n    def __init__(self):\\n        self.value = 'Child'\\n        super().__init__()\\n\\nchild = Child()\\nprint(child.value)\", options=[Optioncustom(text='Child', correct='true'), Optioncustom(text='Parent', correct='false'), Optioncustom(text='Error', correct='false'), Optioncustom(text='None', correct='false')], explanation=\"The output is 'Child' because the constructor of Child sets the value to 'Child' before calling the Parent's constructor, which does not change the already set value.\", blooms_level='Analyzing', difficulty_level='very hard', difficulty_rating=5, metadata={'topic': 'Python classes', 'subtopic': 'Constructor Overriding'})])"
            ]
          },
          "metadata": {},
          "execution_count": 32
        }
      ]
    },
    {
      "cell_type": "code",
      "source": [
        "result.show()"
      ],
      "metadata": {
        "id": "0sAl4auM3VP6"
      },
      "execution_count": null,
      "outputs": []
    },
    {
      "cell_type": "markdown",
      "source": [
        "## Using Different LLMs\n",
        "\n",
        "Switch from OpenAI to any other LLM using Custum LLM Config"
      ],
      "metadata": {
        "id": "D8O_s7tyANIn"
      }
    },
    {
      "cell_type": "code",
      "source": [
        "!pip install -qU langchain-google-genai langchain-anthropic"
      ],
      "metadata": {
        "colab": {
          "base_uri": "https://localhost:8080/"
        },
        "id": "8jo3EwwOkzBl",
        "outputId": "a781f6cd-55ef-4b56-9070-ae6b362da985"
      },
      "execution_count": null,
      "outputs": [
        {
          "output_type": "stream",
          "name": "stdout",
          "text": [
            "\u001b[?25l   \u001b[90m━━━━━━━━━━━━━━━━━━━━━━━━━━━━━━━━━━━━━━━━\u001b[0m \u001b[32m0.0/286.1 kB\u001b[0m \u001b[31m?\u001b[0m eta \u001b[36m-:--:--\u001b[0m\r\u001b[2K   \u001b[91m━━━━━━━━━━━━━━━━━━━━━━━━━━━━━━━━━━━━━━\u001b[0m\u001b[91m╸\u001b[0m\u001b[90m━\u001b[0m \u001b[32m276.5/286.1 kB\u001b[0m \u001b[31m10.7 MB/s\u001b[0m eta \u001b[36m0:00:01\u001b[0m\r\u001b[2K   \u001b[90m━━━━━━━━━━━━━━━━━━━━━━━━━━━━━━━━━━━━━━━━\u001b[0m \u001b[32m286.1/286.1 kB\u001b[0m \u001b[31m7.2 MB/s\u001b[0m eta \u001b[36m0:00:00\u001b[0m\n",
            "\u001b[?25h"
          ]
        }
      ]
    },
    {
      "cell_type": "code",
      "source": [
        "from langchain_google_genai import ChatGoogleGenerativeAI\n",
        "from educhain import Educhain, LLMConfig\n",
        "from langchain_openai import ChatOpenAI\n",
        "from langchain_anthropic import ChatAnthropic\n",
        "from google.colab import userdata\n",
        "\n",
        "# Using gpt-4.1\n",
        "gpt4_model = ChatOpenAI(\n",
        "    model_name=\"gpt-4.1\",\n",
        "    openai_api_key=userdata.get(\"OPENAI_API_KEY_2\")\n",
        ")\n",
        "\n",
        "#Using Gemini-2.0-flash\n",
        "gemini_flash = ChatGoogleGenerativeAI(\n",
        "    model=\"gemini-2.0-flash\",\n",
        "    google_api_key=userdata.get(\"GOOGLE_API_KEY\")\n",
        "    )\n",
        "\n",
        "#Using llama-3.3-70b-versatile\n",
        "llama3_groq = ChatOpenAI(\n",
        "    model=\"llama-3.3-70b-versatile\",\n",
        "    openai_api_base=\"https://api.groq.com/openai/v1\",\n",
        "    openai_api_key=userdata.get(\"GROQ_API_KEY\")\n",
        ")\n",
        "\n",
        "#Using claude-3-7-sonnet\n",
        "claude = ChatAnthropic(model='claude-3-7-sonnet-20250219')"
      ],
      "metadata": {
        "id": "uSzdmszj_RH_"
      },
      "execution_count": null,
      "outputs": []
    },
    {
      "cell_type": "markdown",
      "source": [
        "###Generate Questions Using GPT 4.1 Model"
      ],
      "metadata": {
        "id": "DamoQBegyYSx"
      }
    },
    {
      "cell_type": "code",
      "source": [
        "from educhain import Educhain\n",
        "from educhain import Educhain, LLMConfig\n",
        "from langchain_openai import ChatOpenAI\n",
        "from google.colab import userdata\n",
        "\n",
        "gpt4_config = LLMConfig(custom_model=gpt4_model)\n",
        "gpt4_client = Educhain(gpt4_config)\n",
        "\n",
        "ques = gpt4_client.qna_engine.generate_questions(topic = \"Generative AI\",\n",
        "                                                 num = 10,\n",
        "                                                 custom_instructions = \"Focus on LLMS\")\n",
        "print(ques)\n",
        "ques.model_dump_json()   #you can Generate Dictionaries with this ques.model_dump()"
      ],
      "metadata": {
        "colab": {
          "base_uri": "https://localhost:8080/",
          "height": 181
        },
        "id": "et0qLrkCx_hi",
        "outputId": "eef82ebd-052e-4a77-edeb-8b4aefc40d4e"
      },
      "execution_count": null,
      "outputs": [
        {
          "output_type": "stream",
          "name": "stdout",
          "text": [
            "questions=[MultipleChoiceQuestion(question='What does LLM stand for in the context of generative AI?', answer='Large Language Model', explanation=\"LLM refers to 'Large Language Model', which is a type of AI model trained on vast amounts of text data to generate and understand human language.\", options=['Large Language Model', 'Logical Learning Machine', 'Limited Latent Memory', 'Language-Level Mapping']), MultipleChoiceQuestion(question='Which of the following is a well-known example of a generative LLM?', answer='GPT-4', explanation='GPT-4, developed by OpenAI, is a widely recognized Large Language Model capable of generating human-like text.', options=['Random Forest', 'GPT-4', 'Support Vector Machine', 'Convolutional Neural Network']), MultipleChoiceQuestion(question='What is a common use case for LLMs?', answer='Text summarization', explanation='LLMs can summarize text, answer questions, generate creative writing, translate languages, and more.', options=['Sorting numbers', 'Text summarization', 'Facial recognition', 'Image colorization']), MultipleChoiceQuestion(question='Which technique do LLMs predominantly use to generate text?', answer='Next-token prediction', explanation='LLMs typically generate text by predicting the next word or token in a sequence based on context.', options=['Backpropagation', 'Image segmentation', 'Next-token prediction', 'Time series forecasting']), MultipleChoiceQuestion(question=\"What is 'prompt engineering' in the context of LLMs?\", answer='Designing effective input text to achieve desired outputs', explanation=\"'Prompt engineering' involves carefully crafting input prompts to guide an LLM's responses.\", options=['Designing hardware for faster computation', 'Training the model with new data', 'Designing effective input text to achieve desired outputs', 'Building visualizations from model data']), MultipleChoiceQuestion(question='Which architecture is the foundation for most modern LLMs?', answer='Transformer', explanation='Most LLMs, including GPT and BERT, are based on the transformer architecture.', options=['Recurrent Neural Network', 'Transformer', 'K-Nearest Neighbors', 'Decision Tree']), MultipleChoiceQuestion(question=\"What does 'fine-tuning' an LLM mean?\", answer='Training a pre-trained LLM on a specific dataset for a specialized task', explanation='Fine-tuning adapts a general-purpose LLM to perform better on specific tasks or domains.', options=['Increasing the number of model layers', 'Training a pre-trained LLM on a specific dataset for a specialized task', 'Optimizing hardware utilization', 'Reducing inference time']), MultipleChoiceQuestion(question='Which is a main challenge associated with LLMs?', answer='Potential for generating biased or false information', explanation='LLMs can inadvertently generate biased or factually incorrect content.', options=['Low scalability', 'Potential for generating biased or false information', 'Limited language support', 'Automatic translation errors only']), MultipleChoiceQuestion(question='What is the main advantage of using LLMs over traditional rule-based chatbots?', answer='LLMs can understand and generate more natural language responses', explanation='LLMs use statistical learning to handle a vast variety of inputs, allowing for flexible and natural conversations.', options=['LLMs require no data to train', 'LLMs can understand and generate more natural language responses', 'LLMs are always smaller and faster', 'LLMs only respond with predefined answers']), MultipleChoiceQuestion(question='Which of the following tasks can LLMs NOT typically perform?', answer='Real-time image recognition', explanation='LLMs are designed primarily for language tasks, not real-time image recognition.', options=['Text generation', 'Question answering', 'Real-time image recognition', 'Language translation'])]\n"
          ]
        },
        {
          "output_type": "execute_result",
          "data": {
            "text/plain": [
              "'{\"questions\":[{\"question\":\"What does LLM stand for in the context of generative AI?\",\"answer\":\"Large Language Model\",\"explanation\":\"LLM refers to \\'Large Language Model\\', which is a type of AI model trained on vast amounts of text data to generate and understand human language.\",\"options\":[\"Large Language Model\",\"Logical Learning Machine\",\"Limited Latent Memory\",\"Language-Level Mapping\"]},{\"question\":\"Which of the following is a well-known example of a generative LLM?\",\"answer\":\"GPT-4\",\"explanation\":\"GPT-4, developed by OpenAI, is a widely recognized Large Language Model capable of generating human-like text.\",\"options\":[\"Random Forest\",\"GPT-4\",\"Support Vector Machine\",\"Convolutional Neural Network\"]},{\"question\":\"What is a common use case for LLMs?\",\"answer\":\"Text summarization\",\"explanation\":\"LLMs can summarize text, answer questions, generate creative writing, translate languages, and more.\",\"options\":[\"Sorting numbers\",\"Text summarization\",\"Facial recognition\",\"Image colorization\"]},{\"question\":\"Which technique do LLMs predominantly use to generate text?\",\"answer\":\"Next-token prediction\",\"explanation\":\"LLMs typically generate text by predicting the next word or token in a sequence based on context.\",\"options\":[\"Backpropagation\",\"Image segmentation\",\"Next-token prediction\",\"Time series forecasting\"]},{\"question\":\"What is \\'prompt engineering\\' in the context of LLMs?\",\"answer\":\"Designing effective input text to achieve desired outputs\",\"explanation\":\"\\'Prompt engineering\\' involves carefully crafting input prompts to guide an LLM\\'s responses.\",\"options\":[\"Designing hardware for faster computation\",\"Training the model with new data\",\"Designing effective input text to achieve desired outputs\",\"Building visualizations from model data\"]},{\"question\":\"Which architecture is the foundation for most modern LLMs?\",\"answer\":\"Transformer\",\"explanation\":\"Most LLMs, including GPT and BERT, are based on the transformer architecture.\",\"options\":[\"Recurrent Neural Network\",\"Transformer\",\"K-Nearest Neighbors\",\"Decision Tree\"]},{\"question\":\"What does \\'fine-tuning\\' an LLM mean?\",\"answer\":\"Training a pre-trained LLM on a specific dataset for a specialized task\",\"explanation\":\"Fine-tuning adapts a general-purpose LLM to perform better on specific tasks or domains.\",\"options\":[\"Increasing the number of model layers\",\"Training a pre-trained LLM on a specific dataset for a specialized task\",\"Optimizing hardware utilization\",\"Reducing inference time\"]},{\"question\":\"Which is a main challenge associated with LLMs?\",\"answer\":\"Potential for generating biased or false information\",\"explanation\":\"LLMs can inadvertently generate biased or factually incorrect content.\",\"options\":[\"Low scalability\",\"Potential for generating biased or false information\",\"Limited language support\",\"Automatic translation errors only\"]},{\"question\":\"What is the main advantage of using LLMs over traditional rule-based chatbots?\",\"answer\":\"LLMs can understand and generate more natural language responses\",\"explanation\":\"LLMs use statistical learning to handle a vast variety of inputs, allowing for flexible and natural conversations.\",\"options\":[\"LLMs require no data to train\",\"LLMs can understand and generate more natural language responses\",\"LLMs are always smaller and faster\",\"LLMs only respond with predefined answers\"]},{\"question\":\"Which of the following tasks can LLMs NOT typically perform?\",\"answer\":\"Real-time image recognition\",\"explanation\":\"LLMs are designed primarily for language tasks, not real-time image recognition.\",\"options\":[\"Text generation\",\"Question answering\",\"Real-time image recognition\",\"Language translation\"]}]}'"
            ],
            "application/vnd.google.colaboratory.intrinsic+json": {
              "type": "string"
            }
          },
          "metadata": {},
          "execution_count": 89
        }
      ]
    },
    {
      "cell_type": "code",
      "source": [
        "ques.show()"
      ],
      "metadata": {
        "colab": {
          "base_uri": "https://localhost:8080/"
        },
        "id": "1iZGcWbcytWn",
        "outputId": "dd11f775-6190-44a3-9d1f-56e2a5c8b396"
      },
      "execution_count": null,
      "outputs": [
        {
          "output_type": "stream",
          "name": "stdout",
          "text": [
            "Question 1:\n",
            "Question: What does LLM stand for in the context of generative AI?\n",
            "Options:\n",
            "  A. Large Language Model\n",
            "  B. Logical Learning Machine\n",
            "  C. Limited Latent Memory\n",
            "  D. Language-Level Mapping\n",
            "\n",
            "Correct Answer: Large Language Model\n",
            "Explanation: LLM refers to 'Large Language Model', which is a type of AI model trained on vast amounts of text data to generate and understand human language.\n",
            "\n",
            "Question 2:\n",
            "Question: Which of the following is a well-known example of a generative LLM?\n",
            "Options:\n",
            "  A. Random Forest\n",
            "  B. GPT-4\n",
            "  C. Support Vector Machine\n",
            "  D. Convolutional Neural Network\n",
            "\n",
            "Correct Answer: GPT-4\n",
            "Explanation: GPT-4, developed by OpenAI, is a widely recognized Large Language Model capable of generating human-like text.\n",
            "\n",
            "Question 3:\n",
            "Question: What is a common use case for LLMs?\n",
            "Options:\n",
            "  A. Sorting numbers\n",
            "  B. Text summarization\n",
            "  C. Facial recognition\n",
            "  D. Image colorization\n",
            "\n",
            "Correct Answer: Text summarization\n",
            "Explanation: LLMs can summarize text, answer questions, generate creative writing, translate languages, and more.\n",
            "\n",
            "Question 4:\n",
            "Question: Which technique do LLMs predominantly use to generate text?\n",
            "Options:\n",
            "  A. Backpropagation\n",
            "  B. Image segmentation\n",
            "  C. Next-token prediction\n",
            "  D. Time series forecasting\n",
            "\n",
            "Correct Answer: Next-token prediction\n",
            "Explanation: LLMs typically generate text by predicting the next word or token in a sequence based on context.\n",
            "\n",
            "Question 5:\n",
            "Question: What is 'prompt engineering' in the context of LLMs?\n",
            "Options:\n",
            "  A. Designing hardware for faster computation\n",
            "  B. Training the model with new data\n",
            "  C. Designing effective input text to achieve desired outputs\n",
            "  D. Building visualizations from model data\n",
            "\n",
            "Correct Answer: Designing effective input text to achieve desired outputs\n",
            "Explanation: 'Prompt engineering' involves carefully crafting input prompts to guide an LLM's responses.\n",
            "\n",
            "Question 6:\n",
            "Question: Which architecture is the foundation for most modern LLMs?\n",
            "Options:\n",
            "  A. Recurrent Neural Network\n",
            "  B. Transformer\n",
            "  C. K-Nearest Neighbors\n",
            "  D. Decision Tree\n",
            "\n",
            "Correct Answer: Transformer\n",
            "Explanation: Most LLMs, including GPT and BERT, are based on the transformer architecture.\n",
            "\n",
            "Question 7:\n",
            "Question: What does 'fine-tuning' an LLM mean?\n",
            "Options:\n",
            "  A. Increasing the number of model layers\n",
            "  B. Training a pre-trained LLM on a specific dataset for a specialized task\n",
            "  C. Optimizing hardware utilization\n",
            "  D. Reducing inference time\n",
            "\n",
            "Correct Answer: Training a pre-trained LLM on a specific dataset for a specialized task\n",
            "Explanation: Fine-tuning adapts a general-purpose LLM to perform better on specific tasks or domains.\n",
            "\n",
            "Question 8:\n",
            "Question: Which is a main challenge associated with LLMs?\n",
            "Options:\n",
            "  A. Low scalability\n",
            "  B. Potential for generating biased or false information\n",
            "  C. Limited language support\n",
            "  D. Automatic translation errors only\n",
            "\n",
            "Correct Answer: Potential for generating biased or false information\n",
            "Explanation: LLMs can inadvertently generate biased or factually incorrect content.\n",
            "\n",
            "Question 9:\n",
            "Question: What is the main advantage of using LLMs over traditional rule-based chatbots?\n",
            "Options:\n",
            "  A. LLMs require no data to train\n",
            "  B. LLMs can understand and generate more natural language responses\n",
            "  C. LLMs are always smaller and faster\n",
            "  D. LLMs only respond with predefined answers\n",
            "\n",
            "Correct Answer: LLMs can understand and generate more natural language responses\n",
            "Explanation: LLMs use statistical learning to handle a vast variety of inputs, allowing for flexible and natural conversations.\n",
            "\n",
            "Question 10:\n",
            "Question: Which of the following tasks can LLMs NOT typically perform?\n",
            "Options:\n",
            "  A. Text generation\n",
            "  B. Question answering\n",
            "  C. Real-time image recognition\n",
            "  D. Language translation\n",
            "\n",
            "Correct Answer: Real-time image recognition\n",
            "Explanation: LLMs are designed primarily for language tasks, not real-time image recognition.\n",
            "\n"
          ]
        }
      ]
    },
    {
      "cell_type": "markdown",
      "source": [
        "###Generate Questions Using Llama3.1 Model"
      ],
      "metadata": {
        "id": "CO9FvWjj1fpT"
      }
    },
    {
      "cell_type": "code",
      "source": [
        "from educhain import Educhain\n",
        "\n",
        "llama3_config = LLMConfig(custom_model=llama3_groq)\n",
        "\n",
        "client = Educhain(llama3_config)\n",
        "\n",
        "ques = client.qna_engine.generate_questions(topic = \"Indian Geography\",\n",
        "                                            num = 50,\n",
        "                                            custom_instructions = \"Focus on South India\"\n",
        "                                            )\n",
        "\n",
        "ques.model_dump_json()"
      ],
      "metadata": {
        "colab": {
          "base_uri": "https://localhost:8080/",
          "height": 143
        },
        "id": "ut2Q-uBTAevA",
        "outputId": "c84546d8-f737-460b-9d62-96cef3921fac"
      },
      "execution_count": null,
      "outputs": [
        {
          "output_type": "execute_result",
          "data": {
            "text/plain": [
              "'{\"questions\":[{\"question\":\"Which South Indian state is known for its backwaters?\",\"answer\":\"Kerala\",\"explanation\":\"Kerala is famous for its backwaters, which are a network of interconnected lakes, rivers, and canals.\",\"options\":[\"Kerala\",\"Tamil Nadu\",\"Karnataka\",\"Andhra Pradesh\"]},{\"question\":\"What is the name of the traditional South Indian garment worn by women?\",\"answer\":\"Sari\",\"explanation\":\"The sari is a traditional garment worn by women in South India, typically made of silk or cotton.\",\"options\":[\"Sari\",\"Salwar Kameez\",\"Lehenga\",\"Anarkali\"]},{\"question\":\"Which South Indian city is known as the \\'Temple City\\'?\",\"answer\":\"Madurai\",\"explanation\":\"Madurai is known as the \\'Temple City\\' due to its numerous ancient temples, including the famous Meenakshi Amman Temple.\",\"options\":[\"Madurai\",\"Chennai\",\"Bangalore\",\"Hyderabad\"]},{\"question\":\"What is the name of the traditional South Indian festival of lights?\",\"answer\":\"Diwali\",\"explanation\":\"Diwali is a traditional South Indian festival of lights, celebrated over five days in the month of October or November.\",\"options\":[\"Diwali\",\"Navaratri\",\"Onam\",\"Pongal\"]},{\"question\":\"Which South Indian state is known for its coffee plantations?\",\"answer\":\"Karnataka\",\"explanation\":\"Karnataka is famous for its coffee plantations, which are primarily located in the districts of Coorg and Chikmagalur.\",\"options\":[\"Karnataka\",\"Tamil Nadu\",\"Kerala\",\"Andhra Pradesh\"]},{\"question\":\"What is the name of the traditional South Indian instrument?\",\"answer\":\"Veena\",\"explanation\":\"The veena is a traditional South Indian instrument, played in various forms of classical music.\",\"options\":[\"Veena\",\"Flute\",\"Violin\",\"Mridangam\"]},{\"question\":\"Which South Indian city is known as the \\'Silicon Valley of India\\'?\",\"answer\":\"Bangalore\",\"explanation\":\"Bangalore is known as the \\'Silicon Valley of India\\' due to its large number of IT companies and startups.\",\"options\":[\"Bangalore\",\"Chennai\",\"Hyderabad\",\"Kochi\"]},{\"question\":\"What is the name of the traditional South Indian dance form?\",\"answer\":\"Bharatanatyam\",\"explanation\":\"Bharatanatyam is a traditional South Indian dance form, originating from the state of Tamil Nadu.\",\"options\":[\"Bharatanatyam\",\"Kathakali\",\"Kuchipudi\",\"Mohiniyattam\"]},{\"question\":\"Which South Indian state is known for its beaches?\",\"answer\":\"Kerala\",\"explanation\":\"Kerala is famous for its beautiful beaches, such as Kovalam and Varkala.\",\"options\":[\"Kerala\",\"Tamil Nadu\",\"Karnataka\",\"Andhra Pradesh\"]},{\"question\":\"What is the name of the traditional South Indian dish made from rice and lentils?\",\"answer\":\"Idli\",\"explanation\":\"Idli is a traditional South Indian dish made from rice and lentils, typically served with sambar and chutney.\",\"options\":[\"Idli\",\"Dosa\",\"Vada\",\"Pongal\"]},{\"question\":\"Which South Indian city is known as the \\'Gateway of South India\\'?\",\"answer\":\"Chennai\",\"explanation\":\"Chennai is known as the \\'Gateway of South India\\' due to its strategic location and historical significance.\",\"options\":[\"Chennai\",\"Bangalore\",\"Hyderabad\",\"Kochi\"]},{\"question\":\"What is the name of the traditional South Indian festival celebrated during the month of August?\",\"answer\":\"Onam\",\"explanation\":\"Onam is a traditional South Indian festival celebrated during the month of August, primarily in the state of Kerala.\",\"options\":[\"Onam\",\"Navaratri\",\"Diwali\",\"Pongal\"]},{\"question\":\"Which South Indian state is known for its ancient temples?\",\"answer\":\"Tamil Nadu\",\"explanation\":\"Tamil Nadu is famous for its ancient temples, such as the Brihadeeswara Temple and the Meenakshi Amman Temple.\",\"options\":[\"Tamil Nadu\",\"Kerala\",\"Karnataka\",\"Andhra Pradesh\"]},{\"question\":\"What is the name of the traditional South Indian instrument used in classical music?\",\"answer\":\"Mridangam\",\"explanation\":\"The mridangam is a traditional South Indian instrument used in classical music, particularly in the Carnatic music tradition.\",\"options\":[\"Mridangam\",\"Veena\",\"Flute\",\"Violin\"]},{\"question\":\"Which South Indian city is known as the \\'City of Nizams\\'?\",\"answer\":\"Hyderabad\",\"explanation\":\"Hyderabad is known as the \\'City of Nizams\\' due to its rich history and cultural heritage, particularly during the rule of the Nizam dynasty.\",\"options\":[\"Hyderabad\",\"Bangalore\",\"Chennai\",\"Kochi\"]},{\"question\":\"What is the name of the traditional South Indian dish made from fermented rice and lentils?\",\"answer\":\"Dosa\",\"explanation\":\"Dosa is a traditional South Indian dish made from fermented rice and lentils, typically served with sambar and chutney.\",\"options\":[\"Dosa\",\"Idli\",\"Vada\",\"Pongal\"]},{\"question\":\"Which South Indian state is known for its hill stations?\",\"answer\":\"Kerala\",\"explanation\":\"Kerala is famous for its hill stations, such as Munnar and Thekkady, which are popular tourist destinations.\",\"options\":[\"Kerala\",\"Tamil Nadu\",\"Karnataka\",\"Andhra Pradesh\"]},{\"question\":\"What is the name of the traditional South Indian festival celebrated during the month of January?\",\"answer\":\"Pongal\",\"explanation\":\"Pongal is a traditional South Indian festival celebrated during the month of January, primarily in the state of Tamil Nadu.\",\"options\":[\"Pongal\",\"Onam\",\"Navaratri\",\"Diwali\"]},{\"question\":\"Which South Indian city is known as the \\'Cultural Capital of South India\\'?\",\"answer\":\"Chennai\",\"explanation\":\"Chennai is known as the \\'Cultural Capital of South India\\' due to its rich cultural heritage and historical significance.\",\"options\":[\"Chennai\",\"Bangalore\",\"Hyderabad\",\"Kochi\"]},{\"question\":\"What is the name of the traditional South Indian instrument used in folk music?\",\"answer\":\"Thavil\",\"explanation\":\"The thavil is a traditional South Indian instrument used in folk music, particularly in the state of Tamil Nadu.\",\"options\":[\"Thavil\",\"Mridangam\",\"Veena\",\"Flute\"]},{\"question\":\"Which South Indian state is known for its wildlife sanctuaries?\",\"answer\":\"Kerala\",\"explanation\":\"Kerala is famous for its wildlife sanctuaries, such as the Periyar Wildlife Sanctuary and the Wayanad Wildlife Sanctuary.\",\"options\":[\"Kerala\",\"Tamil Nadu\",\"Karnataka\",\"Andhra Pradesh\"]},{\"question\":\"What is the name of the traditional South Indian dish made from rice and coconut milk?\",\"answer\":\"Payasam\",\"explanation\":\"Payasam is a traditional South Indian dish made from rice and coconut milk, typically served as a dessert.\",\"options\":[\"Payasam\",\"Idli\",\"Dosa\",\"Vada\"]},{\"question\":\"Which South Indian city is known as the \\'City of Pearls\\'?\",\"answer\":\"Hyderabad\",\"explanation\":\"Hyderabad is known as the \\'City of Pearls\\' due to its historical significance as a major center for pearl trade.\",\"options\":[\"Hyderabad\",\"Bangalore\",\"Chennai\",\"Kochi\"]},{\"question\":\"What is the name of the traditional South Indian festival celebrated during the month of September?\",\"answer\":\"Navaratri\",\"explanation\":\"Navaratri is a traditional South Indian festival celebrated during the month of September, primarily in the state of Tamil Nadu.\",\"options\":[\"Navaratri\",\"Onam\",\"Diwali\",\"Pongal\"]},{\"question\":\"Which South Indian state is known for its ancient caves?\",\"answer\":\"Tamil Nadu\",\"explanation\":\"Tamil Nadu is famous for its ancient caves, such as the Mahabalipuram caves and the Kanchipuram caves.\",\"options\":[\"Tamil Nadu\",\"Kerala\",\"Karnataka\",\"Andhra Pradesh\"]},{\"question\":\"What is the name of the traditional South Indian instrument used in devotional music?\",\"answer\":\"Nadaswaram\",\"explanation\":\"The nadaswaram is a traditional South Indian instrument used in devotional music, particularly in the state of Tamil Nadu.\",\"options\":[\"Nadaswaram\",\"Mridangam\",\"Veena\",\"Flute\"]},{\"question\":\"Which South Indian city is known as the \\'Garden City\\'?\",\"answer\":\"Bangalore\",\"explanation\":\"Bangalore is known as the \\'Garden City\\' due to its numerous parks and gardens, such as the Lalbagh Botanical Garden.\",\"options\":[\"Bangalore\",\"Chennai\",\"Hyderabad\",\"Kochi\"]},{\"question\":\"What is the name of the traditional South Indian dish made from fermented rice and lentils, served with sambar and chutney?\",\"answer\":\"Idli\",\"explanation\":\"Idli is a traditional South Indian dish made from fermented rice and lentils, typically served with sambar and chutney.\",\"options\":[\"Idli\",\"Dosa\",\"Vada\",\"Pongal\"]},{\"question\":\"Which South Indian state is known for its spice plantations?\",\"answer\":\"Kerala\",\"explanation\":\"Kerala is famous for its spice plantations, particularly for spices such as pepper, cardamom, and cinnamon.\",\"options\":[\"Kerala\",\"Tamil Nadu\",\"Karnataka\",\"Andhra Pradesh\"]},{\"question\":\"What is the name of the traditional South Indian festival celebrated during the month of October?\",\"answer\":\"Diwali\",\"explanation\":\"Diwali is a traditional South Indian festival celebrated during the month of October, primarily in the state of Tamil Nadu.\",\"options\":[\"Diwali\",\"Onam\",\"Navaratri\",\"Pongal\"]},{\"question\":\"Which South Indian city is known as the \\'City of Lakes\\'?\",\"answer\":\"Kochi\",\"explanation\":\"Kochi is known as the \\'City of Lakes\\' due to its numerous lakes and backwaters, such as the Vembanad Lake and the Kochi Lake.\",\"options\":[\"Kochi\",\"Bangalore\",\"Chennai\",\"Hyderabad\"]},{\"question\":\"What is the name of the traditional South Indian instrument used in folk music?\",\"answer\":\"Udukku\",\"explanation\":\"The udukku is a traditional South Indian instrument used in folk music, particularly in the state of Tamil Nadu.\",\"options\":[\"Udukku\",\"Mridangam\",\"Veena\",\"Flute\"]},{\"question\":\"Which South Indian state is known for its tea plantations?\",\"answer\":\"Tamil Nadu\",\"explanation\":\"Tamil Nadu is famous for its tea plantations, particularly in the Nilgiri Hills.\",\"options\":[\"Tamil Nadu\",\"Kerala\",\"Karnataka\",\"Andhra Pradesh\"]},{\"question\":\"What is the name of the traditional South Indian dish made from rice and lentils, served with sambar and chutney?\",\"answer\":\"Vada\",\"explanation\":\"Vada is a traditional South Indian dish made from rice and lentils, typically served with sambar and chutney.\",\"options\":[\"Vada\",\"Idli\",\"Dosa\",\"Pongal\"]},{\"question\":\"Which South Indian city is known as the \\'City of Temples\\'?\",\"answer\":\"Madurai\",\"explanation\":\"Madurai is known as the \\'City of Temples\\' due to its numerous ancient temples, such as the Meenakshi Amman Temple.\",\"options\":[\"Madurai\",\"Chennai\",\"Bangalore\",\"Hyderabad\"]},{\"question\":\"What is the name of the traditional South Indian festival celebrated during the month of November?\",\"answer\":\"Karthigai Deepam\",\"explanation\":\"Karthigai Deepam is a traditional South Indian festival celebrated during the month of November, primarily in the state of Tamil Nadu.\",\"options\":[\"Karthigai Deepam\",\"Onam\",\"Navaratri\",\"Pongal\"]},{\"question\":\"Which South Indian state is known for its ancient fortresses?\",\"answer\":\"Karnataka\",\"explanation\":\"Karnataka is famous for its ancient fortresses, such as the Mysore Palace and the Bangalore Fort.\",\"options\":[\"Karnataka\",\"Tamil Nadu\",\"Kerala\",\"Andhra Pradesh\"]},{\"question\":\"What is the name of the traditional South Indian instrument used in classical music?\",\"answer\":\"Veena\",\"explanation\":\"The veena is a traditional South Indian instrument used in classical music, particularly in the Carnatic music tradition.\",\"options\":[\"Veena\",\"Mridangam\",\"Flute\",\"Violin\"]},{\"question\":\"Which South Indian city is known as the \\'City of Palaces\\'?\",\"answer\":\"Mysore\",\"explanation\":\"Mysore is known as the \\'City of Palaces\\' due to its numerous palaces, such as the Mysore Palace and the Jaganmohan Palace.\",\"options\":[\"Mysore\",\"Bangalore\",\"Chennai\",\"Hyderabad\"]},{\"question\":\"What is the name of the traditional South Indian dish made from rice and lentils, served with sambar and chutney?\",\"answer\":\"Pongal\",\"explanation\":\"Pongal is a traditional South Indian dish made from rice and lentils, typically served with sambar and chutney.\",\"options\":[\"Pongal\",\"Idli\",\"Dosa\",\"Vada\"]},{\"question\":\"Which South Indian state is known for its ancient ruins?\",\"answer\":\"Tamil Nadu\",\"explanation\":\"Tamil Nadu is famous for its ancient ruins, such as the Mahabalipuram ruins and the Kanchipuram ruins.\",\"options\":[\"Tamil Nadu\",\"Kerala\",\"Karnataka\",\"Andhra Pradesh\"]},{\"question\":\"What is the name of the traditional South Indian instrument used in devotional music?\",\"answer\":\"Nadaswaram\",\"explanation\":\"The nadaswaram is a traditional South Indian instrument used in devotional music, particularly in the state of Tamil Nadu.\",\"options\":[\"Nadaswaram\",\"Mridangam\",\"Veena\",\"Flute\"]},{\"question\":\"Which South Indian city is known as the \\'City of Festivals\\'?\",\"answer\":\"Hyderabad\",\"explanation\":\"Hyderabad is known as the \\'City of Festivals\\' due to its numerous festivals and celebrations throughout the year.\",\"options\":[\"Hyderabad\",\"Bangalore\",\"Chennai\",\"Kochi\"]},{\"question\":\"What is the name of the traditional South Indian dish made from rice and lentils, served with sambar and chutney?\",\"answer\":\"Idiyappam\",\"explanation\":\"Idiyappam is a traditional South Indian dish made from rice and lentils, typically served with sambar and chutney.\",\"options\":[\"Idiyappam\",\"Idli\",\"Dosa\",\"Vada\"]},{\"question\":\"Which South Indian state is known for its ancient ports?\",\"answer\":\"Tamil Nadu\",\"explanation\":\"Tamil Nadu is famous for its ancient ports, such as the Chennai Port and the Tuticorin Port.\",\"options\":[\"Tamil Nadu\",\"Kerala\",\"Karnataka\",\"Andhra Pradesh\"]},{\"question\":\"What is the name of the traditional South Indian instrument used in classical music?\",\"answer\":\"Violin\",\"explanation\":\"The violin is a traditional South Indian instrument used in classical music, particularly in the Carnatic music tradition.\",\"options\":[\"Violin\",\"Mridangam\",\"Veena\",\"Flute\"]},{\"question\":\"Which South Indian city is known as the \\'City of Pearls\\'?\",\"answer\":\"Hyderabad\",\"explanation\":\"Hyderabad is known as the \\'City of Pearls\\' due to its historical significance as a major center for pearl trade.\",\"options\":[\"Hyderabad\",\"Bangalore\",\"Chennai\",\"Kochi\"]},{\"question\":\"What is the name of the traditional South Indian festival celebrated during the month of December?\",\"answer\":\"Karthigai Deepam\",\"explanation\":\"Karthigai Deepam is a traditional South Indian festival celebrated during the month of December, primarily in the state of Tamil Nadu.\",\"options\":[\"Karthigai Deepam\",\"Onam\",\"Navaratri\",\"Pongal\"]},{\"question\":\"Which South Indian state is known for its ancient temples?\",\"answer\":\"Tamil Nadu\",\"explanation\":\"Tamil Nadu is famous for its ancient temples, such as the Brihadeeswara Temple and the Meenakshi Amman Temple.\",\"options\":[\"Tamil Nadu\",\"Kerala\",\"Karnataka\",\"Andhra Pradesh\"]},{\"question\":\"What is the name of the traditional South Indian instrument used in devotional music?\",\"answer\":\"Nadaswaram\",\"explanation\":\"The nadaswaram is a traditional South Indian instrument used in devotional music, particularly in the state of Tamil Nadu.\",\"options\":[\"Nadaswaram\",\"Mridangam\",\"Veena\",\"Flute\"]},{\"question\":\"Which South Indian city is known as the \\'City of Gardens\\'?\",\"answer\":\"Bangalore\",\"explanation\":\"Bangalore is known as the \\'City of Gardens\\' due to its numerous parks and gardens, such as the Lalbagh Botanical Garden.\",\"options\":[\"Bangalore\",\"Chennai\",\"Hyderabad\",\"Kochi\"]},{\"question\":\"What is the name of the traditional South Indian dish made from rice and lentils, served with sambar and chutney?\",\"answer\":\"Pongal\",\"explanation\":\"Pongal is a traditional South Indian dish made from rice and lentils, typically served with sambar and chutney.\",\"options\":[\"Pongal\",\"Idli\",\"Dosa\",\"Vada\"]},{\"question\":\"Which South Indian state is known for its ancient ruins?\",\"answer\":\"Tamil Nadu\",\"explanation\":\"Tamil Nadu is famous for its ancient ruins, such as the Mahabalipuram ruins and the Kanchipuram ruins.\",\"options\":[\"Tamil Nadu\",\"Kerala\",\"Karnataka\",\"Andhra Pradesh\"]},{\"question\":\"What is the name of the traditional South Indian instrument used in classical music?\",\"answer\":\"Veena\",\"explanation\":\"The veena is a traditional South Indian instrument used in classical music, particularly in the Carnatic music tradition.\",\"options\":[\"Veena\",\"Mridangam\",\"Flute\",\"Violin\"]},{\"question\":\"Which South Indian city is known as the \\'City of Palaces\\'?\",\"answer\":\"Mysore\",\"explanation\":\"Mysore is known as the \\'City of Palaces\\' due to its numerous palaces, such as the Mysore Palace and the Jaganmohan Palace.\",\"options\":[\"Mysore\",\"Bangalore\",\"Chennai\",\"Hyderabad\"]},{\"question\":\"What is the name of the traditional South Indian dish made from rice and lentils, served with sambar and chutney?\",\"answer\":\"Idli\",\"explanation\":\"Idli is a traditional South Indian dish made from rice and lentils, typically served with sambar and chutney.\",\"options\":[\"Idli\",\"Dosa\",\"Vada\",\"Pongal\"]},{\"question\":\"Which South Indian state is known for its ancient fortresses?\",\"answer\":\"Karnataka\",\"explanation\":\"Karnataka is famous for its ancient fortresses, such as the Mysore Palace and the Bangalore Fort.\",\"options\":[\"Karnataka\",\"Tamil Nadu\",\"Kerala\",\"Andhra Pradesh\"]},{\"question\":\"What is the name of the traditional South Indian instrument used in devotional music?\",\"answer\":\"Nadaswaram\",\"explanation\":\"The nadaswaram is a traditional South Indian instrument used in devotional music, particularly in the state of Tamil Nadu.\",\"options\":[\"Nadaswaram\",\"Mridangam\",\"Veena\",\"Flute\"]},{\"question\":\"Which South Indian city is known as the \\'City of Lakes\\'?\",\"answer\":\"Kochi\",\"explanation\":\"Kochi is known as the \\'City of Lakes\\' due to its numerous lakes and backwaters, such as the Vembanad Lake and the Kochi Lake.\",\"options\":[\"Kochi\",\"Bangalore\",\"Chennai\",\"Hyderabad\"]},{\"question\":\"What is the name of the traditional South Indian dish made from rice and lentils, served with sambar and chutney?\",\"answer\":\"Dosa\",\"explanation\":\"Dosa is a traditional South Indian dish made from rice and lentils, typically served with sambar and chutney.\",\"options\":[\"Dosa\",\"Idli\",\"Vada\",\"Pongal\"]},{\"question\":\"Which South Indian state is known for its ancient ports?\",\"answer\":\"Tamil Nadu\",\"explanation\":\"Tamil Nadu is famous for its ancient ports, such as the Chennai Port and the Tuticorin Port.\",\"options\":[\"Tamil Nadu\",\"Kerala\",\"Karnataka\",\"Andhra Pradesh\"]}]}'"
            ],
            "application/vnd.google.colaboratory.intrinsic+json": {
              "type": "string"
            }
          },
          "metadata": {},
          "execution_count": 87
        }
      ]
    },
    {
      "cell_type": "code",
      "source": [
        "ques.show()"
      ],
      "metadata": {
        "id": "Uyn5XhPtAsN8"
      },
      "execution_count": null,
      "outputs": []
    },
    {
      "cell_type": "markdown",
      "source": [
        "###Generate Questions Using Gemini-2.0-Flash Model"
      ],
      "metadata": {
        "id": "BR_aRAy413hv"
      }
    },
    {
      "cell_type": "code",
      "source": [
        "from educhain import Educhain\n",
        "\n",
        "Gemini_config = LLMConfig(custom_model=gemini_flash)\n",
        "\n",
        "client = Educhain(Gemini_config)\n",
        "\n",
        "ques = client.qna_engine.generate_questions(topic = \"Data Science\",\n",
        "                                            num = 5,\n",
        "                                            custom_instructions = \"Focus on Statistics\"\n",
        "                                            )\n",
        "\n",
        "ques.model_dump_json()"
      ],
      "metadata": {
        "colab": {
          "base_uri": "https://localhost:8080/",
          "height": 143
        },
        "id": "LsXgEb2C1zhX",
        "outputId": "6db8793a-089f-4c58-f697-d32343035495"
      },
      "execution_count": null,
      "outputs": [
        {
          "output_type": "execute_result",
          "data": {
            "text/plain": [
              "'{\"questions\":[{\"question\":\"Which of the following statistical measures is most affected by outliers?\",\"answer\":\"Mean\",\"explanation\":\"The mean is calculated by summing all values and dividing by the number of values. Outliers, being extreme values, can significantly skew the mean. The median is the middle value and is less sensitive to extreme values. The mode is the most frequent value and is not affected by outliers. Standard deviation measures the spread of data around the mean, so it is also affected by outliers, but not as directly as the mean.\",\"options\":[\"Mean\",\"Median\",\"Mode\",\"Standard Deviation\"]},{\"question\":\"In hypothesis testing, what does a p-value represent?\",\"answer\":\"The probability of observing the test statistic (or a more extreme value) if the null hypothesis is true.\",\"explanation\":\"The p-value quantifies the evidence against the null hypothesis. A small p-value suggests strong evidence against the null hypothesis, leading to its rejection. It\\'s not the probability that the null hypothesis is true or false, nor the probability of making a Type I error (though it is related to the significance level, alpha, which *is* related to Type I error).\",\"options\":[\"The probability that the null hypothesis is true.\",\"The probability of observing the test statistic (or a more extreme value) if the null hypothesis is true.\",\"The probability of making a Type I error.\",\"The probability that the alternative hypothesis is true.\"]},{\"question\":\"What type of statistical test is appropriate for comparing the means of two independent groups when the data is not normally distributed?\",\"answer\":\"Mann-Whitney U test\",\"explanation\":\"The Mann-Whitney U test (also known as the Wilcoxon rank-sum test) is a non-parametric test used to compare the means of two independent groups when the data is not normally distributed. A t-test assumes normality. ANOVA is for comparing more than two groups. Chi-square tests are for categorical data.\",\"options\":[\"T-test\",\"ANOVA\",\"Chi-square test\",\"Mann-Whitney U test\"]},{\"question\":\"Which of the following describes the property of unbiasedness in an estimator?\",\"answer\":\"The expected value of the estimator is equal to the true population parameter.\",\"explanation\":\"An unbiased estimator is one whose expected value (the average of the estimator over many samples) is equal to the true value of the population parameter being estimated.  It doesn\\'t guarantee the estimator is always close to the true value (that\\'s related to variance/efficiency), nor does it imply the estimator is consistent (that\\'s about convergence to the true value as sample size increases).\",\"options\":[\"The estimator always produces the true population parameter.\",\"The expected value of the estimator is equal to the true population parameter.\",\"The estimator converges to the true population parameter as the sample size increases.\",\"The estimator has the smallest possible variance.\"]},{\"question\":\"What is multicollinearity in the context of linear regression?\",\"answer\":\"A high correlation between two or more predictor variables.\",\"explanation\":\"Multicollinearity refers to a situation where two or more predictor variables in a multiple regression model are highly correlated. This can make it difficult to isolate the individual effects of each predictor on the response variable. It does not refer to correlation between the predictor and response or errors, nor does it necessarily mean the model is non-linear.\",\"options\":[\"A high correlation between the predictor and response variable.\",\"A high correlation between two or more predictor variables.\",\"A high correlation between the errors in the model.\",\"A non-linear relationship between the predictor and response variable.\"]}]}'"
            ],
            "application/vnd.google.colaboratory.intrinsic+json": {
              "type": "string"
            }
          },
          "metadata": {},
          "execution_count": 42
        }
      ]
    },
    {
      "cell_type": "code",
      "source": [
        "ques.show()"
      ],
      "metadata": {
        "colab": {
          "base_uri": "https://localhost:8080/"
        },
        "id": "-mDGx6yk2RGn",
        "outputId": "c9d5c9ec-cc95-4cef-db1a-6e3a0b38d1cc"
      },
      "execution_count": null,
      "outputs": [
        {
          "output_type": "stream",
          "name": "stdout",
          "text": [
            "Question 1:\n",
            "Question: Which of the following statistical measures is most affected by outliers?\n",
            "Options:\n",
            "  A. Mean\n",
            "  B. Median\n",
            "  C. Mode\n",
            "  D. Standard Deviation\n",
            "\n",
            "Correct Answer: Mean\n",
            "Explanation: The mean is calculated by summing all values and dividing by the number of values. Outliers, being extreme values, can significantly skew the mean. The median is the middle value and is less sensitive to extreme values. The mode is the most frequent value and is not affected by outliers. Standard deviation measures the spread of data around the mean, so it is also affected by outliers, but not as directly as the mean.\n",
            "\n",
            "Question 2:\n",
            "Question: In hypothesis testing, what does a p-value represent?\n",
            "Options:\n",
            "  A. The probability that the null hypothesis is true.\n",
            "  B. The probability of observing the test statistic (or a more extreme value) if the null hypothesis is true.\n",
            "  C. The probability of making a Type I error.\n",
            "  D. The probability that the alternative hypothesis is true.\n",
            "\n",
            "Correct Answer: The probability of observing the test statistic (or a more extreme value) if the null hypothesis is true.\n",
            "Explanation: The p-value quantifies the evidence against the null hypothesis. A small p-value suggests strong evidence against the null hypothesis, leading to its rejection. It's not the probability that the null hypothesis is true or false, nor the probability of making a Type I error (though it is related to the significance level, alpha, which *is* related to Type I error).\n",
            "\n",
            "Question 3:\n",
            "Question: What type of statistical test is appropriate for comparing the means of two independent groups when the data is not normally distributed?\n",
            "Options:\n",
            "  A. T-test\n",
            "  B. ANOVA\n",
            "  C. Chi-square test\n",
            "  D. Mann-Whitney U test\n",
            "\n",
            "Correct Answer: Mann-Whitney U test\n",
            "Explanation: The Mann-Whitney U test (also known as the Wilcoxon rank-sum test) is a non-parametric test used to compare the means of two independent groups when the data is not normally distributed. A t-test assumes normality. ANOVA is for comparing more than two groups. Chi-square tests are for categorical data.\n",
            "\n",
            "Question 4:\n",
            "Question: Which of the following describes the property of unbiasedness in an estimator?\n",
            "Options:\n",
            "  A. The estimator always produces the true population parameter.\n",
            "  B. The expected value of the estimator is equal to the true population parameter.\n",
            "  C. The estimator converges to the true population parameter as the sample size increases.\n",
            "  D. The estimator has the smallest possible variance.\n",
            "\n",
            "Correct Answer: The expected value of the estimator is equal to the true population parameter.\n",
            "Explanation: An unbiased estimator is one whose expected value (the average of the estimator over many samples) is equal to the true value of the population parameter being estimated.  It doesn't guarantee the estimator is always close to the true value (that's related to variance/efficiency), nor does it imply the estimator is consistent (that's about convergence to the true value as sample size increases).\n",
            "\n",
            "Question 5:\n",
            "Question: What is multicollinearity in the context of linear regression?\n",
            "Options:\n",
            "  A. A high correlation between the predictor and response variable.\n",
            "  B. A high correlation between two or more predictor variables.\n",
            "  C. A high correlation between the errors in the model.\n",
            "  D. A non-linear relationship between the predictor and response variable.\n",
            "\n",
            "Correct Answer: A high correlation between two or more predictor variables.\n",
            "Explanation: Multicollinearity refers to a situation where two or more predictor variables in a multiple regression model are highly correlated. This can make it difficult to isolate the individual effects of each predictor on the response variable. It does not refer to correlation between the predictor and response or errors, nor does it necessarily mean the model is non-linear.\n",
            "\n"
          ]
        }
      ]
    },
    {
      "cell_type": "markdown",
      "source": [
        "###Generate Questions Using Claude-3.7-sonnet Model"
      ],
      "metadata": {
        "id": "BWKgwPSy2Uo7"
      }
    },
    {
      "cell_type": "code",
      "source": [
        "from educhain import Educhain\n",
        "\n",
        "Claude_config = LLMConfig(custom_model=claude)\n",
        "\n",
        "client = Educhain(Claude_config)\n",
        "\n",
        "ques = client.qna_engine.generate_questions(topic = \"Artifical Intelligence\",\n",
        "                                            num = 5,\n",
        "                                            custom_instructions = \"Focus on Large Language Models\"\n",
        "                                            )\n",
        "\n",
        "ques.model_dump_json()"
      ],
      "metadata": {
        "colab": {
          "base_uri": "https://localhost:8080/",
          "height": 143
        },
        "id": "ik7NNCU_2Zmt",
        "outputId": "422fe52e-ce4f-46c1-f001-165d3a4594a6"
      },
      "execution_count": null,
      "outputs": [
        {
          "output_type": "execute_result",
          "data": {
            "text/plain": [
              "'{\"questions\":[{\"question\":\"What is the primary architecture behind modern Large Language Models like GPT-4?\",\"answer\":\"Transformer\",\"explanation\":\"The Transformer architecture, introduced in the \\'Attention is All You Need\\' paper, revolutionized NLP by using self-attention mechanisms to process text in parallel rather than sequentially. Most modern LLMs, including GPT (Generative Pre-trained Transformer) models, use variations of this architecture.\",\"options\":[\"Recurrent Neural Network (RNN)\",\"Convolutional Neural Network (CNN)\",\"Transformer\",\"Long Short-Term Memory (LSTM)\"]},{\"question\":\"What does the term \\'hallucination\\' refer to in the context of Large Language Models?\",\"answer\":\"When a model generates confident but factually incorrect information\",\"explanation\":\"Hallucination is a significant challenge in LLMs where the model produces content that sounds plausible but is factually incorrect or entirely fabricated. This happens because models learn statistical patterns in language rather than having a true understanding of facts.\",\"options\":[\"When a model generates confident but factually incorrect information\",\"When a model refuses to answer a question\",\"When a model correctly identifies images\",\"When a model experiences computational overload\"]},{\"question\":\"What is \\'prompt engineering\\' in the context of Large Language Models?\",\"answer\":\"Crafting inputs to elicit desired outputs from an LLM\",\"explanation\":\"Prompt engineering is the practice of designing and refining inputs (prompts) to guide LLMs toward generating specific desired outputs. It involves understanding how to communicate effectively with the model to achieve the intended results.\",\"options\":[\"Writing code to create new language models\",\"Designing hardware for AI processing\",\"Crafting inputs to elicit desired outputs from an LLM\",\"The process of training language models on prompt datasets\"]},{\"question\":\"What does \\'fine-tuning\\' refer to in Large Language Models?\",\"answer\":\"Additional training of a pre-trained model on a specific dataset for a particular task\",\"explanation\":\"Fine-tuning is the process of taking a pre-trained language model and further training it on a smaller, task-specific dataset. This helps adapt the general capabilities of the model to perform better on particular tasks or domains.\",\"options\":[\"The initial training of a language model\",\"Adjusting the hardware parameters for optimal performance\",\"Additional training of a pre-trained model on a specific dataset for a particular task\",\"Cleaning up the model\\'s responses to remove inappropriate content\"]},{\"question\":\"What is \\'retrieval-augmented generation\\' (RAG) in the context of Large Language Models?\",\"answer\":\"Enhancing LLM outputs by retrieving and incorporating external knowledge\",\"explanation\":\"RAG combines information retrieval with text generation. It works by first retrieving relevant documents or data from an external knowledge source, then providing this context to the LLM to generate more accurate and informed responses, particularly for factual or domain-specific queries.\",\"options\":[\"A technique to reduce model size while maintaining performance\",\"A method to prevent models from generating harmful content\",\"Enhancing LLM outputs by retrieving and incorporating external knowledge\",\"A training approach that uses only retrieved data instead of the full dataset\"]}]}'"
            ],
            "application/vnd.google.colaboratory.intrinsic+json": {
              "type": "string"
            }
          },
          "metadata": {},
          "execution_count": 47
        }
      ]
    },
    {
      "cell_type": "code",
      "source": [
        "ques.show()"
      ],
      "metadata": {
        "colab": {
          "base_uri": "https://localhost:8080/"
        },
        "id": "UjbPBToX2wlw",
        "outputId": "3950f0c0-15d6-424e-fd54-7cbc3df63764"
      },
      "execution_count": null,
      "outputs": [
        {
          "output_type": "stream",
          "name": "stdout",
          "text": [
            "Question 1:\n",
            "Question: What is the primary architecture behind modern Large Language Models like GPT-4?\n",
            "Options:\n",
            "  A. Recurrent Neural Network (RNN)\n",
            "  B. Convolutional Neural Network (CNN)\n",
            "  C. Transformer\n",
            "  D. Long Short-Term Memory (LSTM)\n",
            "\n",
            "Correct Answer: Transformer\n",
            "Explanation: The Transformer architecture, introduced in the 'Attention is All You Need' paper, revolutionized NLP by using self-attention mechanisms to process text in parallel rather than sequentially. Most modern LLMs, including GPT (Generative Pre-trained Transformer) models, use variations of this architecture.\n",
            "\n",
            "Question 2:\n",
            "Question: What does the term 'hallucination' refer to in the context of Large Language Models?\n",
            "Options:\n",
            "  A. When a model generates confident but factually incorrect information\n",
            "  B. When a model refuses to answer a question\n",
            "  C. When a model correctly identifies images\n",
            "  D. When a model experiences computational overload\n",
            "\n",
            "Correct Answer: When a model generates confident but factually incorrect information\n",
            "Explanation: Hallucination is a significant challenge in LLMs where the model produces content that sounds plausible but is factually incorrect or entirely fabricated. This happens because models learn statistical patterns in language rather than having a true understanding of facts.\n",
            "\n",
            "Question 3:\n",
            "Question: What is 'prompt engineering' in the context of Large Language Models?\n",
            "Options:\n",
            "  A. Writing code to create new language models\n",
            "  B. Designing hardware for AI processing\n",
            "  C. Crafting inputs to elicit desired outputs from an LLM\n",
            "  D. The process of training language models on prompt datasets\n",
            "\n",
            "Correct Answer: Crafting inputs to elicit desired outputs from an LLM\n",
            "Explanation: Prompt engineering is the practice of designing and refining inputs (prompts) to guide LLMs toward generating specific desired outputs. It involves understanding how to communicate effectively with the model to achieve the intended results.\n",
            "\n",
            "Question 4:\n",
            "Question: What does 'fine-tuning' refer to in Large Language Models?\n",
            "Options:\n",
            "  A. The initial training of a language model\n",
            "  B. Adjusting the hardware parameters for optimal performance\n",
            "  C. Additional training of a pre-trained model on a specific dataset for a particular task\n",
            "  D. Cleaning up the model's responses to remove inappropriate content\n",
            "\n",
            "Correct Answer: Additional training of a pre-trained model on a specific dataset for a particular task\n",
            "Explanation: Fine-tuning is the process of taking a pre-trained language model and further training it on a smaller, task-specific dataset. This helps adapt the general capabilities of the model to perform better on particular tasks or domains.\n",
            "\n",
            "Question 5:\n",
            "Question: What is 'retrieval-augmented generation' (RAG) in the context of Large Language Models?\n",
            "Options:\n",
            "  A. A technique to reduce model size while maintaining performance\n",
            "  B. A method to prevent models from generating harmful content\n",
            "  C. Enhancing LLM outputs by retrieving and incorporating external knowledge\n",
            "  D. A training approach that uses only retrieved data instead of the full dataset\n",
            "\n",
            "Correct Answer: Enhancing LLM outputs by retrieving and incorporating external knowledge\n",
            "Explanation: RAG combines information retrieval with text generation. It works by first retrieving relevant documents or data from an external knowledge source, then providing this context to the LLM to generate more accurate and informed responses, particularly for factual or domain-specific queries.\n",
            "\n"
          ]
        }
      ]
    },
    {
      "cell_type": "markdown",
      "source": [
        "## Generate questions from data sources 📚"
      ],
      "metadata": {
        "id": "ISACufx13LFa"
      }
    },
    {
      "cell_type": "markdown",
      "source": [
        "###URL Support"
      ],
      "metadata": {
        "id": "vnwhDHPf3fQX"
      }
    },
    {
      "cell_type": "code",
      "source": [
        "from educhain import Educhain\n",
        "\n",
        "client = Educhain()\n",
        "\n",
        "url_list = client.qna_engine.generate_questions_from_data(\n",
        "    source=\"https://www.buildfastwithai.com/genai-course\",\n",
        "    source_type=\"url\",\n",
        "    num=10,\n",
        "    question_type=\"Multiple Choice\",\n",
        "    difficulty_level=\"Intermediate\",\n",
        "    custom_instructions= \"Ask questions only about Satvik\"\n",
        "\n",
        ")\n",
        "\n",
        "url_list.show()"
      ],
      "metadata": {
        "colab": {
          "base_uri": "https://localhost:8080/"
        },
        "id": "T-Z6OMK53MzM",
        "outputId": "823b03d8-321a-479a-8da4-c04b34b827db"
      },
      "execution_count": null,
      "outputs": [
        {
          "output_type": "stream",
          "name": "stdout",
          "text": [
            "Question 1:\n",
            "Question: What is Satvik Paramkusham's educational background?\n",
            "Options:\n",
            "  A. IIT Delhi alumnus\n",
            "  B. IIT Bombay alumnus\n",
            "  C. Harvard graduate\n",
            "  D. Stanford graduate\n",
            "\n",
            "Correct Answer: IIT Delhi alumnus\n",
            "\n",
            "Question 2:\n",
            "Question: How many professionals has Satvik trained?\n",
            "Options:\n",
            "  A. 10,000 professionals\n",
            "  B. 15,000 professionals\n",
            "  C. 20,000 professionals\n",
            "  D. Over 15,000 professionals\n",
            "\n",
            "Correct Answer: Over 15,000 professionals\n",
            "\n",
            "Question 3:\n",
            "Question: What is the main teaching approach used by Satvik in his courses?\n",
            "Options:\n",
            "  A. Lecture-based learning\n",
            "  B. \"Learning by Doing\" approach\n",
            "  C. Video tutorials\n",
            "  D. Self-paced reading\n",
            "\n",
            "Correct Answer: \"Learning by Doing\" approach\n",
            "\n",
            "Question 4:\n",
            "Question: What role does Satvik hold at Build Fast with AI?\n",
            "Options:\n",
            "  A. Co-founder\n",
            "  B. CEO\n",
            "  C. Founder\n",
            "  D. Lead Instructor\n",
            "\n",
            "Correct Answer: Founder\n",
            "\n",
            "Question 5:\n",
            "Question: Which consulting firms has Satvik partnered with for strategic AI implementation?\n",
            "Options:\n",
            "  A. BCG, McKinsey, PwC, KPMG, and Deloitte\n",
            "  B. Google, Microsoft, Amazon\n",
            "  C. IBM, Oracle, SAP\n",
            "  D. Tesla, Facebook, Apple\n",
            "\n",
            "Correct Answer: BCG, McKinsey, PwC, KPMG, and Deloitte\n",
            "\n",
            "Question 6:\n",
            "Question: What is Satvik's approach to making generative AI accessible?\n",
            "Options:\n",
            "  A. Focusing only on large enterprises\n",
            "  B. Making generative AI accessible to everyone\n",
            "  C. Limiting to technical experts\n",
            "  D. Offering only advanced courses\n",
            "\n",
            "Correct Answer: Making generative AI accessible to everyone\n",
            "\n",
            "Question 7:\n",
            "Question: What is one of Satvik's notable achievements in AI?\n",
            "Options:\n",
            "  A. Developed AI games\n",
            "  B. Transformed 100+ businesses through strategic AI implementation\n",
            "  C. Published AI textbooks\n",
            "  D. Created an AI research lab\n",
            "\n",
            "Correct Answer: Transformed 100+ businesses through strategic AI implementation\n",
            "\n",
            "Question 8:\n",
            "Question: Which method does Satvik emphasize to assist students outside of class?\n",
            "Options:\n",
            "  A. Providing recorded sessions\n",
            "  B. Going out of his way to assist students\n",
            "  C. Offering only email support\n",
            "  D. Limiting interaction to class hours\n",
            "\n",
            "Correct Answer: Going out of his way to assist students\n",
            "\n",
            "Question 9:\n",
            "Question: What is Satvik's primary goal in teaching generative AI?\n",
            "Options:\n",
            "  A. To promote AI as a complex technology\n",
            "  B. To help people see AI as a practical tool\n",
            "  C. To restrict AI knowledge to experts\n",
            "  D. To create AI-only workshops\n",
            "\n",
            "Correct Answer: To help people see AI as a practical tool\n",
            "\n",
            "Question 10:\n",
            "Question: How does Satvik value hands-on projects in his courses?\n",
            "Options:\n",
            "  A. As optional\n",
            "  B. As essential for applying learning in real-world scenarios\n",
            "  C. As a distraction from theory\n",
            "  D. As a secondary focus\n",
            "\n",
            "Correct Answer: As essential for applying learning in real-world scenarios\n",
            "\n"
          ]
        }
      ]
    },
    {
      "cell_type": "markdown",
      "source": [
        "###PDF Support\n",
        "Please include the file path of your PDF document.\n"
      ],
      "metadata": {
        "id": "bx_Dh3qk3ohv"
      }
    },
    {
      "cell_type": "code",
      "source": [
        "client = Educhain()\n",
        "\n",
        "pdf_questions = client.qna_engine.generate_questions_from_data(\n",
        "    source=\"/content/NIPS-2017-attention-is-all-you-need-Paper.pdf\",\n",
        "    source_type=\"pdf\",\n",
        "    num=10,\n",
        "    question_type=\"Multiple Choice\",\n",
        "    learning_objective=\"\",\n",
        "    difficulty_level=\"Intermediate\",\n",
        "    custom_instructions= \"what is this pdf about\"\n",
        ")\n",
        "\n",
        "pdf_questions.show()"
      ],
      "metadata": {
        "id": "GETsO96S3nJm",
        "colab": {
          "base_uri": "https://localhost:8080/"
        },
        "outputId": "622b4412-5b25-4d86-b94a-78ded5bc1cbd"
      },
      "execution_count": null,
      "outputs": [
        {
          "output_type": "stream",
          "name": "stdout",
          "text": [
            "Question 1:\n",
            "Question: What is the main architecture proposed in 'Attention Is All You Need'?\n",
            "Options:\n",
            "  A. Convolutional Neural Network\n",
            "  B. Recurrent Neural Network\n",
            "  C. Transformer\n",
            "  D. Multi-Layer Perceptron\n",
            "\n",
            "Correct Answer: Transformer\n",
            "\n",
            "Question 2:\n",
            "Question: What mechanism does the Transformer model rely on for its operations?\n",
            "Options:\n",
            "  A. Gradient Descent\n",
            "  B. Attention mechanisms\n",
            "  C. Recurrent connections\n",
            "  D. Convolutional filters\n",
            "\n",
            "Correct Answer: Attention mechanisms\n",
            "\n",
            "Question 3:\n",
            "Question: What is the primary advantage of the Transformer over recurrent models?\n",
            "Options:\n",
            "  A. Better accuracy\n",
            "  B. More parallelization\n",
            "  C. Lower complexity\n",
            "  D. Faster training on CPU\n",
            "\n",
            "Correct Answer: More parallelization\n",
            "\n",
            "Question 4:\n",
            "Question: What type of tasks did the Transformer achieve state-of-the-art results in?\n",
            "Options:\n",
            "  A. Image classification\n",
            "  B. Machine translation\n",
            "  C. Speech recognition\n",
            "  D. Reinforcement learning\n",
            "\n",
            "Correct Answer: Machine translation\n",
            "\n",
            "Question 5:\n",
            "Question: What BLEU score did the Transformer achieve on the English-to-German translation task?\n",
            "Options:\n",
            "  A. 26.0\n",
            "  B. 25.0\n",
            "  C. 28.4\n",
            "  D. 30.0\n",
            "\n",
            "Correct Answer: 28.4\n",
            "\n",
            "Question 6:\n",
            "Question: How many layers does the encoder stack in the Transformer contain?\n",
            "Options:\n",
            "  A. 4\n",
            "  B. 6\n",
            "  C. 8\n",
            "  D. 10\n",
            "\n",
            "Correct Answer: 6\n",
            "\n",
            "Question 7:\n",
            "Question: What is used to inject information about token positions in the Transformer?\n",
            "Options:\n",
            "  A. Token embedding\n",
            "  B. Positional encoding\n",
            "  C. Attention masks\n",
            "  D. Sequence alignment\n",
            "\n",
            "Correct Answer: Positional encoding\n",
            "\n",
            "Question 8:\n",
            "Question: What is the purpose of multi-head attention in the Transformer model?\n",
            "Options:\n",
            "  A. To reduce computational cost\n",
            "  B. To jointly attend to information from different representation subspaces\n",
            "  C. To eliminate the need for an encoder\n",
            "  D. To simplify the model architecture\n",
            "\n",
            "Correct Answer: To jointly attend to information from different representation subspaces\n",
            "\n",
            "Question 9:\n",
            "Question: Which optimizer was used during the training of the Transformer models?\n",
            "Options:\n",
            "  A. SGD\n",
            "  B. Adam optimizer\n",
            "  C. RMSprop\n",
            "  D. Adagrad\n",
            "\n",
            "Correct Answer: Adam optimizer\n",
            "\n",
            "Question 10:\n",
            "Question: What is the main reason for using scaled dot-product attention?\n",
            "Options:\n",
            "  A. To improve computational efficiency\n",
            "  B. To prevent gradients from vanishing\n",
            "  C. To increase the model size\n",
            "  D. To simplify the attention mechanism\n",
            "\n",
            "Correct Answer: To prevent gradients from vanishing\n",
            "\n"
          ]
        }
      ]
    },
    {
      "cell_type": "markdown",
      "source": [
        "###TEXT Support"
      ],
      "metadata": {
        "id": "NQGHnha_4poo"
      }
    },
    {
      "cell_type": "code",
      "source": [
        "from educhain import Educhain\n",
        "\n",
        "client = Educhain()\n",
        "\n",
        "text_questions = client.qna_engine.generate_questions_from_data(\n",
        "    source=\"\"\"Navigate the AI Landscape\n",
        "            After Week 1, you'll possess a deep understanding of LLMs, Transformers, and Prompt Engineering, enabling you to guide AI initiatives with confidence.\"\"\",\n",
        "    source_type=\"text\",\n",
        "    num=10,\n",
        "    question_type=\"Multiple Choice\",\n",
        "    learning_objective=\"\",\n",
        "    difficulty_level=\"Intermediate\",\n",
        "    custom_instructions= \"Focus on LLMS\"\n",
        ")\n",
        "\n",
        "text_questions.show()"
      ],
      "metadata": {
        "colab": {
          "base_uri": "https://localhost:8080/"
        },
        "id": "XIKDGlz24pbx",
        "outputId": "76805d5d-be3b-4904-9272-9adb959e5678"
      },
      "execution_count": null,
      "outputs": [
        {
          "output_type": "stream",
          "name": "stdout",
          "text": [
            "Question 1:\n",
            "Question: What does LLM stand for in the context of AI?\n",
            "Options:\n",
            "  A. Linear Language Model\n",
            "  B. Large Language Model\n",
            "  C. Life Language Model\n",
            "  D. Linguistic Language Model\n",
            "\n",
            "Correct Answer: Large Language Model\n",
            "Explanation: LLM refers to models that are designed to understand and generate human language at a large scale.\n",
            "\n",
            "Question 2:\n",
            "Question: Which architecture is primarily used in modern LLMs for processing sequences of data?\n",
            "Options:\n",
            "  A. Recurrent Neural Networks\n",
            "  B. Convolutional Neural Networks\n",
            "  C. Transformers\n",
            "  D. Support Vector Machines\n",
            "\n",
            "Correct Answer: Transformers\n",
            "Explanation: Transformers allow for parallel processing of data and have become the backbone of many LLMs.\n",
            "\n",
            "Question 3:\n",
            "Question: What is prompt engineering?\n",
            "Options:\n",
            "  A. The process of training AI models\n",
            "  B. The process of designing inputs to optimize AI model responses\n",
            "  C. The evaluation of AI performance\n",
            "  D. The creation of AI hardware\n",
            "\n",
            "Correct Answer: The process of designing inputs to optimize AI model responses\n",
            "Explanation: Prompt engineering involves crafting the input text to guide the AI in generating desired outputs.\n",
            "\n",
            "Question 4:\n",
            "Question: What is one benefit of using LLMs in AI applications?\n",
            "Options:\n",
            "  A. They require less training data than traditional models\n",
            "  B. They can generate human-like text based on given prompts\n",
            "  C. They operate faster than all other models\n",
            "  D. They do not need any input to work\n",
            "\n",
            "Correct Answer: They can generate human-like text based on given prompts\n",
            "Explanation: LLMs excel at producing coherent and contextually relevant text, making them useful for a range of applications.\n",
            "\n",
            "Question 5:\n",
            "Question: In which year was the Transformer model introduced?\n",
            "Options:\n",
            "  A. 2015\n",
            "  B. 2016\n",
            "  C. 2017\n",
            "  D. 2018\n",
            "\n",
            "Correct Answer: 2017\n",
            "Explanation: The Transformer model was introduced in the paper 'Attention is All You Need' published in 2017.\n",
            "\n",
            "Question 6:\n",
            "Question: Which of the following is NOT a characteristic of Transformers?\n",
            "Options:\n",
            "  A. Self-attention mechanisms\n",
            "  B. Parallel data processing\n",
            "  C. Positional encodings\n",
            "  D. Sequential data processing\n",
            "\n",
            "Correct Answer: Sequential data processing\n",
            "Explanation: Transformers use self-attention mechanisms and do not process data sequentially like RNNs.\n",
            "\n",
            "Question 7:\n",
            "Question: What is the main purpose of fine-tuning an LLM?\n",
            "Options:\n",
            "  A. To reduce the model size\n",
            "  B. To adapt the model to specific tasks or datasets\n",
            "  C. To increase the training speed\n",
            "  D. To eliminate biases in the model\n",
            "\n",
            "Correct Answer: To adapt the model to specific tasks or datasets\n",
            "Explanation: Fine-tuning allows an LLM to perform better on specific applications by adjusting it to new data.\n",
            "\n",
            "Question 8:\n",
            "Question: What is the role of 'attention' in transformer models?\n",
            "Options:\n",
            "  A. It reduces the number of layers in the model\n",
            "  B. It allows the model to focus on relevant parts of the input data\n",
            "  C. It speeds up training times\n",
            "  D. It eliminates the need for data preprocessing\n",
            "\n",
            "Correct Answer: It allows the model to focus on relevant parts of the input data\n",
            "Explanation: Attention mechanisms help the model weigh the importance of different words or phrases in the input.\n",
            "\n",
            "Question 9:\n",
            "Question: What challenge do LLMs face when generating text?\n",
            "Options:\n",
            "  A. Understanding user emotions\n",
            "  B. Maintaining long-term coherence in narratives\n",
            "  C. Dealing with multiple languages\n",
            "  D. Generating images instead of text\n",
            "\n",
            "Correct Answer: Maintaining long-term coherence in narratives\n",
            "Explanation: While LLMs are good at short-term coherence, they often struggle with maintaining context over longer texts.\n",
            "\n",
            "Question 10:\n",
            "Question: Which of the following best describes 'zero-shot learning' in LLMs?\n",
            "Options:\n",
            "  A. The ability to perform tasks after minimal training\n",
            "  B. The ability to perform tasks without explicit training on those tasks\n",
            "  C. The ability to learn from zero data\n",
            "  D. The ability to generate new datasets\n",
            "\n",
            "Correct Answer: The ability to perform tasks without explicit training on those tasks\n",
            "Explanation: Zero-shot learning allows LLMs to generalize and perform tasks they haven't been specifically trained on.\n",
            "\n"
          ]
        }
      ]
    },
    {
      "cell_type": "markdown",
      "source": [
        "## Generate Questions with question types ⁉\n",
        "\n"
      ],
      "metadata": {
        "id": "8HORAb2G4xuD"
      }
    },
    {
      "cell_type": "markdown",
      "source": [
        "✅ Multiple Choice\n",
        "\n",
        "✅Fill in the blanks\n",
        "\n",
        "✅ Short Answer\n",
        "\n",
        "✅ True/False Questions"
      ],
      "metadata": {
        "id": "uclOdEBj8azL"
      }
    },
    {
      "cell_type": "markdown",
      "source": [
        "###✅ Multiple Choice\n"
      ],
      "metadata": {
        "id": "AJF1YgKl42uq"
      }
    },
    {
      "cell_type": "code",
      "source": [
        "from educhain import Educhain\n",
        "\n",
        "client = Educhain()\n",
        "\n",
        "questions = client.qna_engine.generate_questions(\n",
        "    topic=\"Machine Learning\",\n",
        "    num=10,\n",
        "    question_type=\"Multiple Choice\",) # #supported types : \"Multiple Choice\", \"Short Answer\", \"True/False\", \"Fill in the Blank\"\n",
        "\n",
        "questions.show()"
      ],
      "metadata": {
        "colab": {
          "base_uri": "https://localhost:8080/"
        },
        "id": "cp-nkbUi42T8",
        "outputId": "2e96ed1b-dd3d-4c36-a140-81656aaa3258"
      },
      "execution_count": null,
      "outputs": [
        {
          "output_type": "stream",
          "name": "stdout",
          "text": [
            "Question 1:\n",
            "Question: What is the primary goal of supervised learning?\n",
            "Options:\n",
            "  A. To learn a mapping from inputs to outputs based on labeled training data.\n",
            "  B. To find patterns in data without labels.\n",
            "  C. To optimize an objective function without any data.\n",
            "  D. To cluster data points into groups.\n",
            "\n",
            "Correct Answer: To learn a mapping from inputs to outputs based on labeled training data.\n",
            "Explanation: Supervised learning involves training a model on a dataset that includes input-output pairs, allowing the model to predict outputs for new inputs.\n",
            "\n",
            "Question 2:\n",
            "Question: Which algorithm is commonly used for classification tasks?\n",
            "Options:\n",
            "  A. Linear Regression\n",
            "  B. Decision Trees\n",
            "  C. K-Means Clustering\n",
            "  D. Principal Component Analysis\n",
            "\n",
            "Correct Answer: Decision Trees\n",
            "Explanation: Decision Trees are widely used for classification because they can easily handle both categorical and continuous data and provide interpretable results.\n",
            "\n",
            "Question 3:\n",
            "Question: What does overfitting mean in machine learning?\n",
            "Options:\n",
            "  A. A model that performs well on training data but poorly on unseen data.\n",
            "  B. A model that generalizes well to new data.\n",
            "  C. A model that learns from less data.\n",
            "  D. A model that cannot learn from data.\n",
            "\n",
            "Correct Answer: A model that performs well on training data but poorly on unseen data.\n",
            "Explanation: Overfitting occurs when a model learns the training data too well, including noise and outliers, leading to poor generalization to new data.\n",
            "\n",
            "Question 4:\n",
            "Question: Which of the following is a common technique to prevent overfitting?\n",
            "Options:\n",
            "  A. Cross-validation\n",
            "  B. Increasing the size of the training data\n",
            "  C. Decreasing the model complexity\n",
            "  D. All of the above\n",
            "\n",
            "Correct Answer: Cross-validation\n",
            "Explanation: Cross-validation helps assess how the results of a statistical analysis will generalize to an independent data set, thus helping prevent overfitting.\n",
            "\n",
            "Question 5:\n",
            "Question: What is the purpose of a confusion matrix?\n",
            "Options:\n",
            "  A. To evaluate the performance of a classification model.\n",
            "  B. To visualize the structure of a neural network.\n",
            "  C. To show the distribution of data points.\n",
            "  D. To compare different machine learning models.\n",
            "\n",
            "Correct Answer: To evaluate the performance of a classification model.\n",
            "Explanation: A confusion matrix summarizes the correct and incorrect predictions made by a classification model, allowing for easy identification of misclassifications.\n",
            "\n",
            "Question 6:\n",
            "Question: In unsupervised learning, what is clustering?\n",
            "Options:\n",
            "  A. Grouping similar data points together.\n",
            "  B. Labeling data points based on known categories.\n",
            "  C. Predicting outcomes based on input features.\n",
            "  D. Finding the best-fit line in regression.\n",
            "\n",
            "Correct Answer: Grouping similar data points together.\n",
            "Explanation: Clustering is a technique used in unsupervised learning to group similar data points based on their feature similarities without predefined labels.\n",
            "\n",
            "Question 7:\n",
            "Question: What is the role of feature engineering in machine learning?\n",
            "Options:\n",
            "  A. To select and transform variables to improve model performance.\n",
            "  B. To evaluate the model's performance.\n",
            "  C. To visualize the data.\n",
            "  D. To apply algorithms to the data.\n",
            "\n",
            "Correct Answer: To select and transform variables to improve model performance.\n",
            "Explanation: Feature engineering involves creating new input features or selecting the most relevant ones to improve the accuracy and performance of machine learning models.\n",
            "\n",
            "Question 8:\n",
            "Question: What is reinforcement learning?\n",
            "Options:\n",
            "  A. A type of machine learning where an agent learns to make decisions by taking actions in an environment to maximize cumulative reward.\n",
            "  B. Learning from a labeled dataset to predict outputs.\n",
            "  C. Grouping data points without labels.\n",
            "  D. Minimizing the error in predictions.\n",
            "\n",
            "Correct Answer: A type of machine learning where an agent learns to make decisions by taking actions in an environment to maximize cumulative reward.\n",
            "Explanation: Reinforcement learning involves training an agent to make decisions by interacting with an environment and receiving feedback in the form of rewards or penalties.\n",
            "\n",
            "Question 9:\n",
            "Question: Which of the following is an example of regression?\n",
            "Options:\n",
            "  A. Predicting house prices based on features like size and location.\n",
            "  B. Classifying emails as spam or not spam.\n",
            "  C. Grouping customers based on purchasing behavior.\n",
            "  D. Identifying objects in images.\n",
            "\n",
            "Correct Answer: Predicting house prices based on features like size and location.\n",
            "Explanation: Regression is used to predict continuous outcomes, such as house prices, based on input features.\n",
            "\n",
            "Question 10:\n",
            "Question: What is the purpose of normalization in data preprocessing?\n",
            "Options:\n",
            "  A. To scale features to a similar range.\n",
            "  B. To increase the complexity of the model.\n",
            "  C. To reduce the size of the dataset.\n",
            "  D. To remove outliers from the data.\n",
            "\n",
            "Correct Answer: To scale features to a similar range.\n",
            "Explanation: Normalization helps in scaling the input features to a common range, which can improve the convergence of algorithms, especially those that rely on distance calculations.\n",
            "\n"
          ]
        }
      ]
    },
    {
      "cell_type": "markdown",
      "source": [
        "###✅Fill in the blanks\n"
      ],
      "metadata": {
        "id": "q4GwOO9v6VpH"
      }
    },
    {
      "cell_type": "code",
      "source": [
        "from educhain import Educhain\n",
        "\n",
        "client = Educhain()\n",
        "\n",
        "questions = client.qna_engine.generate_questions(\n",
        "    topic=\"Gravitation\",\n",
        "    num=10,\n",
        "    question_type=\"Fill in the Blank\",) # #supported types : \"Multiple Choice\", \"Short Answer\", \"True/False\", \"Fill in the Blank\"\n",
        "\n",
        "questions.show()"
      ],
      "metadata": {
        "colab": {
          "base_uri": "https://localhost:8080/"
        },
        "id": "E8-V6Ixe6ZMQ",
        "outputId": "f3ed1e19-b790-480c-ec2b-73c465d3436d"
      },
      "execution_count": null,
      "outputs": [
        {
          "output_type": "stream",
          "name": "stdout",
          "text": [
            "Question 1:\n",
            "Question: The force of attraction between two masses is known as __________.\n",
            "Answer: gravitation\n",
            "Explanation: Gravitation is the universal force that pulls two bodies towards each other due to their mass.\n",
            "\n",
            "Word to fill: gravitation\n",
            "\n",
            "Question 2:\n",
            "Question: According to Newton's law of universal gravitation, the gravitational force between two objects is directly proportional to the product of their __________.\n",
            "Answer: masses\n",
            "Explanation: The gravitational force increases with the mass of the objects involved.\n",
            "\n",
            "Word to fill: masses\n",
            "\n",
            "Question 3:\n",
            "Question: The distance between two objects affects the gravitational force, which is inversely proportional to the square of the __________.\n",
            "Answer: distance\n",
            "Explanation: As the distance between two masses increases, the gravitational force decreases rapidly.\n",
            "\n",
            "Word to fill: distance\n",
            "\n",
            "Question 4:\n",
            "Question: The gravitational force exerted by the Earth on an object is also known as its __________.\n",
            "Answer: weight\n",
            "Explanation: Weight is the gravitational force acting on an object due to Earth's mass.\n",
            "\n",
            "Word to fill: weight\n",
            "\n",
            "Question 5:\n",
            "Question: The __________ constant (G) is used in the formula for calculating gravitational force.\n",
            "Answer: gravitational\n",
            "Explanation: The gravitational constant is a key value in gravitational calculations, representing the strength of gravity.\n",
            "\n",
            "Word to fill: gravitational\n",
            "\n",
            "Question 6:\n",
            "Question: The acceleration due to gravity on the surface of the Earth is approximately __________ m/s².\n",
            "Answer: 9.81\n",
            "Explanation: This is the standard value for gravitational acceleration on Earth.\n",
            "\n",
            "Word to fill: 9.81\n",
            "\n",
            "Question 7:\n",
            "Question: The concept of __________ is used to describe the curvature of space-time caused by mass, as per Einstein's theory.\n",
            "Answer: gravity\n",
            "Explanation: Einstein's theory of general relativity explains gravity as the warping of space-time.\n",
            "\n",
            "Word to fill: gravity\n",
            "\n",
            "Question 8:\n",
            "Question: The path followed by an object in free fall under the influence of gravity is called its __________.\n",
            "Answer: trajectory\n",
            "Explanation: The trajectory is the curved path that an object follows when influenced by gravitational forces.\n",
            "\n",
            "Word to fill: trajectory\n",
            "\n",
            "Question 9:\n",
            "Question: In a vacuum, all objects fall at the same rate due to __________.\n",
            "Answer: gravity\n",
            "Explanation: In the absence of air resistance, gravity causes all objects to accelerate downwards equally.\n",
            "\n",
            "Word to fill: gravity\n",
            "\n",
            "Question 10:\n",
            "Question: The __________ of an object is the measure of the gravitational attraction it experiences.\n",
            "Answer: mass\n",
            "Explanation: Mass is a measure of the amount of matter in an object and directly influences gravitational attraction.\n",
            "\n",
            "Word to fill: mass\n",
            "\n"
          ]
        }
      ]
    },
    {
      "cell_type": "markdown",
      "source": [
        "###✅ Short Answer\n",
        "\n"
      ],
      "metadata": {
        "id": "4uIlrKHy61wc"
      }
    },
    {
      "cell_type": "code",
      "source": [
        "from educhain import Educhain\n",
        "\n",
        "client = Educhain()\n",
        "\n",
        "questions = client.qna_engine.generate_questions(\n",
        "    topic=\"Atoms\",\n",
        "    num=10,\n",
        "    question_type=\"Short Answer\",\n",
        "   difficulty_level=\"Intermediate\", ) # #supported types : \"Multiple Choice\", \"Short Answer\", \"True/False\", \"Fill in the Blank\"\n",
        "\n",
        "questions.show()"
      ],
      "metadata": {
        "colab": {
          "base_uri": "https://localhost:8080/"
        },
        "outputId": "f5d14df4-8e8e-4c3a-b489-7c75cedf0732",
        "id": "Hgy9sv4S61wc"
      },
      "execution_count": null,
      "outputs": [
        {
          "output_type": "stream",
          "name": "stdout",
          "text": [
            "Question 1:\n",
            "Question: What is the basic unit of matter?\n",
            "Answer: Atom\n",
            "Explanation: Atoms are the smallest units of matter that retain the properties of an element.\n",
            "\n",
            "Keywords: Atom, matter, basic unit\n",
            "\n",
            "Question 2:\n",
            "Question: What subatomic particle has a positive charge?\n",
            "Answer: Proton\n",
            "Explanation: Protons are positively charged particles found in the nucleus of an atom.\n",
            "\n",
            "Keywords: Proton, subatomic particle, positive charge\n",
            "\n",
            "Question 3:\n",
            "Question: What is the charge of an electron?\n",
            "Answer: Negative\n",
            "Explanation: Electrons are negatively charged subatomic particles that orbit the nucleus of an atom.\n",
            "\n",
            "Keywords: Electron, negative charge, subatomic particle\n",
            "\n",
            "Question 4:\n",
            "Question: What is the nucleus of an atom made of?\n",
            "Answer: Protons and Neutrons\n",
            "Explanation: The nucleus contains protons and neutrons, which make up the majority of an atom's mass.\n",
            "\n",
            "Keywords: Nucleus, protons, neutrons\n",
            "\n",
            "Question 5:\n",
            "Question: What determines the element of an atom?\n",
            "Answer: Number of Protons\n",
            "Explanation: The number of protons in the nucleus, also known as the atomic number, defines which element an atom represents.\n",
            "\n",
            "Keywords: Element, atomic number, protons\n",
            "\n",
            "Question 6:\n",
            "Question: What particles are found in the outer regions of an atom?\n",
            "Answer: Electrons\n",
            "Explanation: Electrons orbit the nucleus of an atom in various energy levels or shells.\n",
            "\n",
            "Keywords: Electrons, outer regions, orbit\n",
            "\n",
            "Question 7:\n",
            "Question: What is the term for atoms of the same element with different numbers of neutrons?\n",
            "Answer: Isotopes\n",
            "Explanation: Isotopes are variants of a particular chemical element that have the same number of protons but different numbers of neutrons.\n",
            "\n",
            "Keywords: Isotopes, same element, different neutrons\n",
            "\n",
            "Question 8:\n",
            "Question: What is the mass number of an atom?\n",
            "Answer: The sum of protons and neutrons\n",
            "Explanation: The mass number is the total number of protons and neutrons in an atom's nucleus.\n",
            "\n",
            "Keywords: Mass number, protons, neutrons\n",
            "\n",
            "Question 9:\n",
            "Question: What type of bond involves the sharing of electron pairs between atoms?\n",
            "Answer: Covalent bond\n",
            "Explanation: Covalent bonds form when two atoms share one or more pairs of electrons.\n",
            "\n",
            "Keywords: Covalent bond, electron sharing, atoms\n",
            "\n",
            "Question 10:\n",
            "Question: What is the term for the energy required to remove an electron from an atom?\n",
            "Answer: Ionization energy\n",
            "Explanation: Ionization energy is the energy needed to remove the most loosely bound electron from an isolated atom.\n",
            "\n",
            "Keywords: Ionization energy, remove electron, atom\n",
            "\n"
          ]
        }
      ]
    },
    {
      "cell_type": "markdown",
      "source": [
        "###✅ True/False Questions\n",
        "\n"
      ],
      "metadata": {
        "id": "JewGimte7Qw4"
      }
    },
    {
      "cell_type": "code",
      "source": [
        "from educhain import Educhain\n",
        "\n",
        "client = Educhain()\n",
        "\n",
        "questions = client.qna_engine.generate_questions(\n",
        "    topic=\"quntum Computing\",\n",
        "    num=10,\n",
        "    question_type=\"True/False\",\n",
        "   difficulty_level=\"Intermediate\", ) # #supported types : \"Multiple Choice\", \"Short Answer\", \"True/False\", \"Fill in the Blank\"\n",
        "\n",
        "questions.show()"
      ],
      "metadata": {
        "colab": {
          "base_uri": "https://localhost:8080/"
        },
        "outputId": "31a2cfd1-dd7b-4eea-a27b-8fe00d2f7053",
        "id": "UYAbeT4x7Qw5"
      },
      "execution_count": null,
      "outputs": [
        {
          "output_type": "stream",
          "name": "stdout",
          "text": [
            "Question 1:\n",
            "Question: Quantum computers use classical bits to process information.\n",
            "Answer: False\n",
            "Explanation: Quantum computers use quantum bits, or qubits, which can exist in multiple states simultaneously, unlike classical bits that are either 0 or 1.\n",
            "\n",
            "True/False: False\n",
            "\n",
            "Question 2:\n",
            "Question: Superposition is a fundamental principle of quantum computing.\n",
            "Answer: True\n",
            "Explanation: Superposition allows quantum bits to be in multiple states at once, enabling quantum computers to perform complex calculations more efficiently than classical computers.\n",
            "\n",
            "True/False: True\n",
            "\n",
            "Question 3:\n",
            "Question: Entanglement in quantum computing refers to the ability of qubits to be connected, regardless of distance.\n",
            "Answer: True\n",
            "Explanation: Entangled qubits can instantaneously affect each other's state, which is a key feature that quantum computers leverage for processing information.\n",
            "\n",
            "True/False: True\n",
            "\n",
            "Question 4:\n",
            "Question: Quantum computers are currently faster than classical computers for all types of calculations.\n",
            "Answer: False\n",
            "Explanation: Quantum computers excel at specific problems, such as factoring large numbers and simulating quantum systems, but they are not universally faster for all calculations.\n",
            "\n",
            "True/False: False\n",
            "\n",
            "Question 5:\n",
            "Question: A quantum algorithm can sometimes outperform the best classical algorithm.\n",
            "Answer: True\n",
            "Explanation: Quantum algorithms like Shor's algorithm for factoring and Grover's algorithm for searching demonstrate potential speed advantages over their classical counterparts.\n",
            "\n",
            "True/False: True\n",
            "\n",
            "Question 6:\n",
            "Question: The principle of quantum decoherence poses a challenge to maintaining qubit states in quantum computing.\n",
            "Answer: True\n",
            "Explanation: Decoherence occurs when qubits interact with their environment, leading to loss of quantum information, which is a significant challenge in quantum computing.\n",
            "\n",
            "True/False: True\n",
            "\n",
            "Question 7:\n",
            "Question: Quantum computers require a warm operating environment to function correctly.\n",
            "Answer: False\n",
            "Explanation: Most quantum computers operate at extremely low temperatures to maintain qubit coherence and minimize noise.\n",
            "\n",
            "True/False: False\n",
            "\n",
            "Question 8:\n",
            "Question: Quantum cryptography is inherently secure due to the laws of quantum mechanics.\n",
            "Answer: True\n",
            "Explanation: Quantum cryptography, particularly Quantum Key Distribution (QKD), leverages the principles of quantum mechanics to ensure secure communication.\n",
            "\n",
            "True/False: True\n",
            "\n",
            "Question 9:\n",
            "Question: Quantum computing is a fully mature technology that is widely available for commercial use.\n",
            "Answer: False\n",
            "Explanation: Quantum computing is still in the experimental stage, with ongoing research and development needed before widespread commercial applications can be realized.\n",
            "\n",
            "True/False: False\n",
            "\n",
            "Question 10:\n",
            "Question: Shor's algorithm is designed for efficiently solving linear equations.\n",
            "Answer: False\n",
            "Explanation: Shor's algorithm is specifically designed for factoring large integers, not for solving linear equations.\n",
            "\n",
            "True/False: False\n",
            "\n"
          ]
        }
      ]
    },
    {
      "cell_type": "markdown",
      "source": [
        "###Generate Lesson Plans\n"
      ],
      "metadata": {
        "id": "UtLn9rOF-gPm"
      }
    },
    {
      "cell_type": "code",
      "source": [
        "from educhain import Educhain\n",
        "\n",
        "client = Educhain()\n",
        "\n",
        "plan = client.content_engine.generate_lesson_plan(\n",
        "                              topic = \"Arithmetic\")\n",
        "\n",
        "print(plan)\n",
        "plan.model_dump_json()  # plan.model_dump()"
      ],
      "metadata": {
        "id": "4VGBeR5m-hUO"
      },
      "execution_count": null,
      "outputs": []
    },
    {
      "cell_type": "code",
      "source": [
        "plan.show()"
      ],
      "metadata": {
        "colab": {
          "base_uri": "https://localhost:8080/"
        },
        "id": "2436fi6X-wxg",
        "outputId": "422a79f6-7282-4f17-9c63-3a1cd472ca84"
      },
      "execution_count": null,
      "outputs": [
        {
          "output_type": "stream",
          "name": "stdout",
          "text": [
            "================================================================================\n",
            "Lesson Plan: Exploring Arithmetic: The Building Blocks of Mathematics\n",
            "Subject: Mathematics\n",
            "Learning Objectives: Students will be able to define and perform basic arithmetic operations (addition, subtraction, multiplication, division)., Students will understand and apply arithmetic operations in real-life scenarios., Students will analyze and solve word problems that require multi-step arithmetic operations.\n",
            "Lesson Introduction: Imagine you are at a grocery store, and you have $20. You see apples for $3 each, bananas for $2 each, and oranges for $4 each. How many fruits can you buy? Today, we will dive into the world of arithmetic, exploring how these simple operations can help us make decisions every day. Let's find out how math connects to real life!\n",
            "================================================================================\n",
            "\n",
            "Main Topic 1: Understanding Basic Operations\n",
            "\n",
            "   Subtopic 1.1: Addition and Subtraction\n",
            "   Key Concepts:\n",
            "      - Definition: Addition is the process of calculating the total of two or more numbers. Subtraction is the process of determining the difference between two numbers.\n",
            "      - Example: Example: If you have 5 apples and buy 3 more, you have 5 + 3 = 8 apples. Conversely, if you eat 2 apples, you have 8 - 2 = 6 apples left.\n",
            "   Discussion Questions:\n",
            "      - How do we use addition and subtraction in our daily lives?\n",
            "      - Can you think of a situation where subtraction is more useful than addition?\n",
            "   Hands-On Activities:\n",
            "      - Grocery Store Simulation: Students will simulate a grocery shopping experience where they have a budget and must add and subtract costs of items they wish to purchase.\n",
            "   Reflective Questions:\n",
            "      - What strategies did you use to stay within your budget while shopping?\n",
            "   Assessment Ideas:\n",
            "      - Project: Create a budget for a party using addition and subtraction. Include costs for food, drinks, and decorations.\n",
            "\n",
            "   Subtopic 1.2: Multiplication and Division\n",
            "   Key Concepts:\n",
            "      - Definition: Multiplication is repeated addition. Division is splitting a number into equal parts.\n",
            "      - Example: Example: If you buy 4 packs of pencils with 5 pencils in each pack, you have 4 x 5 = 20 pencils. If you need to share these equally among 4 friends, each friend gets 20 ÷ 4 = 5 pencils.\n",
            "   Discussion Questions:\n",
            "      - How does multiplication help us in organizing things?\n",
            "      - In what scenarios might we need to use division?\n",
            "   Hands-On Activities:\n",
            "      - Group Sharing Activity: Students will use objects (like blocks) to create groups and explore multiplication and division through hands-on sharing.\n",
            "   Reflective Questions:\n",
            "      - How did grouping objects help you understand multiplication and division better?\n",
            "   Assessment Ideas:\n",
            "      - Quiz: A short quiz with word problems requiring multiplication and division to solve.\n",
            "\n",
            "Main Topic 2: Applying Arithmetic in Real Life\n",
            "\n",
            "   Subtopic 2.1: Real-World Applications of Arithmetic\n",
            "   Key Concepts:\n",
            "      - Definition: Arithmetic is used in various professions and daily decisions, like budgeting, cooking, and shopping.\n",
            "      - Example: Example: When cooking, you might need to double a recipe, which requires multiplication.\n",
            "   Discussion Questions:\n",
            "      - What are some careers that heavily rely on arithmetic?\n",
            "      - Can you think of a time when you used arithmetic to solve a problem outside of school?\n",
            "   Hands-On Activities:\n",
            "      - Recipe Scaling: Students will choose a recipe and calculate the new quantities needed for different serving sizes.\n",
            "   Reflective Questions:\n",
            "      - How did adjusting the recipe help you understand the importance of arithmetic?\n",
            "   Assessment Ideas:\n",
            "      - Written task: Write a short essay on how arithmetic is used in your favorite hobby or career.\n",
            "\n",
            "================================================================================\n"
          ]
        }
      ]
    },
    {
      "cell_type": "markdown",
      "source": [
        "##Generate Questions With RAG"
      ],
      "metadata": {
        "id": "d7cNVRyyyE7U"
      }
    },
    {
      "cell_type": "markdown",
      "source": [
        "###URL Support"
      ],
      "metadata": {
        "id": "pyf-r54gyMIT"
      }
    },
    {
      "cell_type": "code",
      "source": [
        "from educhain import Educhain\n",
        "\n",
        "client = Educhain()\n",
        "\n",
        "url_list = client.qna_engine.generate_questions_with_rag(\n",
        "    source=\"https://www.buildfastwithai.com/genai-course\",\n",
        "    source_type=\"url\",\n",
        "    num=20,\n",
        "    question_type=\"Multiple Choice\",\n",
        "    difficulty_level=\"Intermediate\",\n",
        "    custom_instructions= \"Ask questions only about Satvik\"\n",
        "\n",
        ")\n",
        "\n",
        "url_list.show()"
      ],
      "metadata": {
        "colab": {
          "base_uri": "https://localhost:8080/"
        },
        "id": "wxSgw7hEqiYe",
        "outputId": "ab9a27e4-9668-4698-a3c2-9d3654e78c4b"
      },
      "execution_count": null,
      "outputs": [
        {
          "output_type": "stream",
          "name": "stdout",
          "text": [
            "Question 1:\n",
            "Question: What is Satvik Paramkusham's educational background?\n",
            "Options:\n",
            "  A. IIT Delhi alumnus\n",
            "  B. Harvard University graduate\n",
            "  C. Stanford University graduate\n",
            "  D. MIT alumnus\n",
            "\n",
            "Correct Answer: IIT Delhi alumnus\n",
            "\n",
            "Question 2:\n",
            "Question: What position does Satvik Paramkusham hold at Build Fast with AI?\n",
            "Options:\n",
            "  A. CEO\n",
            "  B. CTO\n",
            "  C. Founder\n",
            "  D. COO\n",
            "\n",
            "Correct Answer: Founder\n",
            "\n",
            "Question 3:\n",
            "Question: How many professionals has Satvik trained?\n",
            "Options:\n",
            "  A. Over 5,000\n",
            "  B. Over 10,000\n",
            "  C. Over 15,000\n",
            "  D. Over 20,000\n",
            "\n",
            "Correct Answer: Over 15,000\n",
            "\n",
            "Question 4:\n",
            "Question: What is Satvik's approach to teaching generative AI?\n",
            "Options:\n",
            "  A. Making it accessible to everyone\n",
            "  B. Focusing only on advanced topics\n",
            "  C. Using complex jargon\n",
            "  D. Avoiding practical applications\n",
            "\n",
            "Correct Answer: Making it accessible to everyone\n",
            "\n",
            "Question 5:\n",
            "Question: Which industry does Satvik aim to help with generative AI?\n",
            "Options:\n",
            "  A. Only tech startups\n",
            "  B. Only healthcare\n",
            "  C. Diverse industries\n",
            "  D. Only finance\n",
            "\n",
            "Correct Answer: Diverse industries\n",
            "\n",
            "Question 6:\n",
            "Question: What is Satvik's passion in his professional career?\n",
            "Options:\n",
            "  A. Developing new software\n",
            "  B. Making generative AI accessible\n",
            "  C. Conducting research only\n",
            "  D. Building hardware\n",
            "\n",
            "Correct Answer: Making generative AI accessible\n",
            "\n",
            "Question 7:\n",
            "Question: What is the primary goal of Satvik's teaching?\n",
            "Options:\n",
            "  A. Transforming perceptions of AI\n",
            "  B. Only teaching coding\n",
            "  C. Focusing on theoretical knowledge\n",
            "  D. Avoiding hands-on projects\n",
            "\n",
            "Correct Answer: Transforming perceptions of AI\n",
            "\n",
            "Question 8:\n",
            "Question: What type of learning does Satvik emphasize in his courses?\n",
            "Options:\n",
            "  A. Lecture-based learning\n",
            "  B. Hands-on, project-based learning\n",
            "  C. Self-study only\n",
            "  D. Group discussions only\n",
            "\n",
            "Correct Answer: Hands-on, project-based learning\n",
            "\n",
            "Question 9:\n",
            "Question: What is a notable feature of the courses taught by Satvik?\n",
            "Options:\n",
            "  A. Online quizzes only\n",
            "  B. Weekly live mentorship sessions\n",
            "  C. No interaction with instructors\n",
            "  D. Pre-recorded videos only\n",
            "\n",
            "Correct Answer: Weekly live mentorship sessions\n",
            "\n",
            "Question 10:\n",
            "Question: What is the main audience Satvik targets with his courses?\n",
            "Options:\n",
            "  A. Only large corporations\n",
            "  B. Only students\n",
            "  C. From startups to enterprises\n",
            "  D. Only freelancers\n",
            "\n",
            "Correct Answer: From startups to enterprises\n",
            "\n",
            "Question 11:\n",
            "Question: What type of experience is required to join Satvik's courses?\n",
            "Options:\n",
            "  A. Advanced coding skills required\n",
            "  B. No coding experience required\n",
            "  C. Basic coding experience required\n",
            "  D. Only engineering background required\n",
            "\n",
            "Correct Answer: No coding experience required\n",
            "\n"
          ]
        }
      ]
    },
    {
      "cell_type": "markdown",
      "source": [
        "###PDF Support"
      ],
      "metadata": {
        "id": "rE-pPoWZyaFE"
      }
    },
    {
      "cell_type": "code",
      "source": [
        "from educhain import Educhain\n",
        "\n",
        "client = Educhain()\n",
        "\n",
        "\n",
        "pdf_questions = client.qna_engine.generate_questions_with_rag(\n",
        "    source=\"/content/NIPS-2017-attention-is-all-you-need-Paper.pdf\",\n",
        "    source_type=\"pdf\",\n",
        "    num=20,\n",
        "    question_type=\"Multiple Choice\",\n",
        "    learning_objective=\"\",\n",
        "    difficulty_level=\"Intermediate\",\n",
        "    custom_instructions= \"what is this pdf about\"\n",
        ")\n",
        "\n",
        "pdf_questions.show()"
      ],
      "metadata": {
        "colab": {
          "base_uri": "https://localhost:8080/"
        },
        "id": "n6hwnvlJyZSc",
        "outputId": "5dcf0da1-99fd-4a88-bced-71c3530ccd64"
      },
      "execution_count": null,
      "outputs": [
        {
          "output_type": "stream",
          "name": "stdout",
          "text": [
            "Question 1:\n",
            "Question: What is the primary focus of the paper 'Attention Is All You Need'?\n",
            "Options:\n",
            "  A. Proposing a new architecture based on attention mechanisms.\n",
            "  B. Improving recurrent neural networks.\n",
            "  C. Developing convolutional neural networks.\n",
            "  D. Enhancing traditional machine learning models.\n",
            "\n",
            "Correct Answer: Proposing a new architecture based on attention mechanisms.\n",
            "\n",
            "Question 2:\n",
            "Question: Which architecture does the paper introduce?\n",
            "Options:\n",
            "  A. Convolutional Neural Network\n",
            "  B. Recurrent Neural Network\n",
            "  C. The Transformer\n",
            "  D. Attention Network\n",
            "\n",
            "Correct Answer: The Transformer.\n",
            "\n",
            "Question 3:\n",
            "Question: What does the Transformer architecture dispense with?\n",
            "Options:\n",
            "  A. Recurrence and convolutions.\n",
            "  B. Attention mechanisms.\n",
            "  C. Encoder and decoder.\n",
            "  D. Neural networks.\n",
            "\n",
            "Correct Answer: Recurrence and convolutions.\n",
            "\n",
            "Question 4:\n",
            "Question: According to the experiments, how do Transformer models compare to traditional models?\n",
            "Options:\n",
            "  A. They are slower and less efficient.\n",
            "  B. They are superior in quality and more parallelizable.\n",
            "  C. They require more time to train.\n",
            "  D. They are less effective in translation tasks.\n",
            "\n",
            "Correct Answer: They are superior in quality and more parallelizable.\n",
            "\n",
            "Question 5:\n",
            "Question: What is one of the key advantages of the Transformer model?\n",
            "Options:\n",
            "  A. It requires significantly more time to train.\n",
            "  B. It requires significantly less time to train.\n",
            "  C. It is less accurate.\n",
            "  D. It depends on complex architectures.\n",
            "\n",
            "Correct Answer: It requires significantly less time to train.\n",
            "\n",
            "Question 6:\n",
            "Question: Which task is mentioned in the paper as being tested with the Transformer model?\n",
            "Options:\n",
            "  A. Image recognition.\n",
            "  B. Machine translation.\n",
            "  C. Speech recognition.\n",
            "  D. Time series forecasting.\n",
            "\n",
            "Correct Answer: Machine translation.\n",
            "\n",
            "Question 7:\n",
            "Question: What is the role of the attention mechanism in the Transformer architecture?\n",
            "Options:\n",
            "  A. To connect the encoder and decoder.\n",
            "  B. To replace the input layer.\n",
            "  C. To enhance convolutional layers.\n",
            "  D. To simplify the model.\n",
            "\n",
            "Correct Answer: To connect the encoder and decoder.\n",
            "\n",
            "Question 8:\n",
            "Question: Who are some of the authors of the paper?\n",
            "Options:\n",
            "  A. Ashish Vaswani and Noam Shazeer.\n",
            "  B. Geoffrey Hinton and Yann LeCun.\n",
            "  C. Andrew Ng and Ian Goodfellow.\n",
            "  D. Lior Wolf and Rico Sennrich.\n",
            "\n",
            "Correct Answer: Ashish Vaswani and Noam Shazeer.\n",
            "\n",
            "Question 9:\n",
            "Question: What is one of the future research goals mentioned in the paper?\n",
            "Options:\n",
            "  A. To improve convolutional networks.\n",
            "  B. To apply the model to tasks beyond text.\n",
            "  C. To focus solely on language tasks.\n",
            "  D. To minimize the use of attention.\n",
            "\n",
            "Correct Answer: To apply the model to tasks beyond text.\n",
            "\n",
            "Question 10:\n",
            "Question: What does the model achieve compared to previously reported ensembles?\n",
            "Options:\n",
            "  A. It underperforms them.\n",
            "  B. It outperforms them.\n",
            "  C. It matches their performance.\n",
            "  D. It has no impact on their performance.\n",
            "\n",
            "Correct Answer: It outperforms them.\n",
            "\n",
            "Question 11:\n",
            "Question: What is the significance of self-attention in the Transformer?\n",
            "Options:\n",
            "  A. It complicates the model structure.\n",
            "  B. It allows for representation computation without RNNs or convolutions.\n",
            "  C. It is less efficient than traditional methods.\n",
            "  D. It has no effect on performance.\n",
            "\n",
            "Correct Answer: It allows for representation computation without RNNs or convolutions.\n",
            "\n",
            "Question 12:\n",
            "Question: What kind of models does the paper compare the Transformer to?\n",
            "Options:\n",
            "  A. Simple linear models.\n",
            "  B. Complex recurrent or convolutional neural networks.\n",
            "  C. Generative adversarial networks.\n",
            "  D. Unsupervised learning models.\n",
            "\n",
            "Correct Answer: Complex recurrent or convolutional neural networks.\n",
            "\n",
            "Question 13:\n",
            "Question: What is one of the motivations for developing the Transformer?\n",
            "Options:\n",
            "  A. To increase model complexity.\n",
            "  B. To improve the efficiency of training.\n",
            "  C. To decrease model size.\n",
            "  D. To eliminate the need for attention.\n",
            "\n",
            "Correct Answer: To improve the efficiency of training.\n",
            "\n",
            "Question 14:\n",
            "Question: What is the main benefit of parallelization in the Transformer model?\n",
            "Options:\n",
            "  A. It complicates the training process.\n",
            "  B. It speeds up training.\n",
            "  C. It reduces model accuracy.\n",
            "  D. It requires more computation.\n",
            "\n",
            "Correct Answer: It speeds up training.\n",
            "\n",
            "Question 15:\n",
            "Question: Which of the following is NOT mentioned as a future application for the Transformer?\n",
            "Options:\n",
            "  A. Image processing.\n",
            "  B. Audio analysis.\n",
            "  C. Weather prediction.\n",
            "  D. Video analysis.\n",
            "\n",
            "Correct Answer: Weather prediction.\n",
            "\n",
            "Question 16:\n",
            "Question: What is the primary component that connects the encoder and decoder in traditional models?\n",
            "Options:\n",
            "  A. Hidden layers.\n",
            "  B. Attention mechanism.\n",
            "  C. Input embedding.\n",
            "  D. Output embedding.\n",
            "\n",
            "Correct Answer: Attention mechanism.\n",
            "\n",
            "Question 17:\n",
            "Question: What type of learning does the Transformer primarily focus on?\n",
            "Options:\n",
            "  A. Unsupervised learning.\n",
            "  B. Reinforcement learning.\n",
            "  C. Supervised learning.\n",
            "  D. Semi-supervised learning.\n",
            "\n",
            "Correct Answer: Supervised learning.\n",
            "\n",
            "Question 18:\n",
            "Question: What is the significance of local, restricted attention mechanisms mentioned in the paper?\n",
            "Options:\n",
            "  A. To simplify the architecture.\n",
            "  B. To efficiently handle large inputs and outputs.\n",
            "  C. To improve accuracy.\n",
            "  D. To eliminate the need for training.\n",
            "\n",
            "Correct Answer: To efficiently handle large inputs and outputs.\n",
            "\n",
            "Question 19:\n",
            "Question: What is the main advantage of eliminating recurrence in the Transformer?\n",
            "Options:\n",
            "  A. Increased complexity.\n",
            "  B. Increased parallelization during training.\n",
            "  C. Decreased performance.\n",
            "  D. Lower accuracy.\n",
            "\n",
            "Correct Answer: Increased parallelization during training.\n",
            "\n",
            "Question 20:\n",
            "Question: What type of tasks do the authors plan to extend the Transformer to?\n",
            "Options:\n",
            "  A. Only text-based tasks.\n",
            "  B. Tasks involving various input and output modalities.\n",
            "  C. Only image tasks.\n",
            "  D. Only audio tasks.\n",
            "\n",
            "Correct Answer: Tasks involving various input and output modalities.\n",
            "\n"
          ]
        }
      ]
    },
    {
      "cell_type": "markdown",
      "source": [
        "###TEXT Support"
      ],
      "metadata": {
        "id": "wvsLAFWLzyxP"
      }
    },
    {
      "cell_type": "code",
      "source": [
        "from educhain import Educhain\n",
        "\n",
        "client = Educhain()\n",
        "\n",
        "text_questions = client.qna_engine.generate_questions_with_rag(\n",
        "    source=\"\"\"Navigate the AI Landscape\n",
        "            After Week 1, you'll possess a deep understanding of LLMs, Transformers, and Prompt Engineering, enabling you to guide AI initiatives with confidence.\"\"\",\n",
        "    source_type=\"text\",\n",
        "    num=10,\n",
        "    question_type=\"Multiple Choice\",\n",
        "    learning_objective=\"\",\n",
        "    difficulty_level=\"Intermediate\",\n",
        "    custom_instructions= \"Focus on LLMS\"\n",
        ")\n",
        "\n",
        "text_questions.show()"
      ],
      "metadata": {
        "colab": {
          "base_uri": "https://localhost:8080/"
        },
        "id": "v911M6faz1EP",
        "outputId": "d9942df5-8b86-4160-e51c-e115e231d230"
      },
      "execution_count": null,
      "outputs": [
        {
          "output_type": "stream",
          "name": "stdout",
          "text": [
            "Question 1:\n",
            "Question: What does LLM stand for in the context of AI?\n",
            "Options:\n",
            "  A. Large Learning Model\n",
            "  B. Language Learning Model\n",
            "  C. Large Language Model\n",
            "  D. Linear Language Model\n",
            "\n",
            "Correct Answer: Large Language Model\n",
            "\n",
            "Question 2:\n",
            "Question: Which architecture is primarily used in LLMs?\n",
            "Options:\n",
            "  A. Recurrent Neural Networks\n",
            "  B. Convolutional Neural Networks\n",
            "  C. Transformers\n",
            "  D. Decision Trees\n",
            "\n",
            "Correct Answer: Transformers\n",
            "\n",
            "Question 3:\n",
            "Question: What is the purpose of prompt engineering?\n",
            "Options:\n",
            "  A. To develop hardware for AI\n",
            "  B. To craft effective prompts for AI models\n",
            "  C. To store data in AI systems\n",
            "  D. To analyze AI performance\n",
            "\n",
            "Correct Answer: To craft effective prompts for AI models\n",
            "\n",
            "Question 4:\n",
            "Question: What is one key benefit of understanding LLMs?\n",
            "Options:\n",
            "  A. Reducing server costs\n",
            "  B. Guiding AI initiatives with confidence\n",
            "  C. Improving software debugging\n",
            "  D. Enhancing graphic design\n",
            "\n",
            "Correct Answer: Guiding AI initiatives with confidence\n",
            "\n",
            "Question 5:\n",
            "Question: Which of the following is a common application of LLMs?\n",
            "Options:\n",
            "  A. Web Hosting\n",
            "  B. Chatbots\n",
            "  C. Data Storage\n",
            "  D. Video Editing\n",
            "\n",
            "Correct Answer: Chatbots\n",
            "\n",
            "Question 6:\n",
            "Question: What is a Transformer in AI?\n",
            "Options:\n",
            "  A. A type of AI hardware\n",
            "  B. A model architecture for processing sequential data\n",
            "  C. A machine learning algorithm for classification\n",
            "  D. A data visualization tool\n",
            "\n",
            "Correct Answer: A model architecture for processing sequential data\n",
            "\n",
            "Question 7:\n",
            "Question: What is an important aspect of prompt engineering?\n",
            "Options:\n",
            "  A. Building AI infrastructure\n",
            "  B. Crafting specific queries to elicit desired responses\n",
            "  C. Collecting user data\n",
            "  D. Evaluating model speed\n",
            "\n",
            "Correct Answer: Crafting specific queries to elicit desired responses\n",
            "\n",
            "Question 8:\n",
            "Question: Which of the following tools is commonly used for working with LLMs?\n",
            "Options:\n",
            "  A. Photoshop\n",
            "  B. Langchain\n",
            "  C. Excel\n",
            "  D. PowerPoint\n",
            "\n",
            "Correct Answer: Langchain\n",
            "\n",
            "Question 9:\n",
            "Question: What role do LLM APIs play in AI development?\n",
            "Options:\n",
            "  A. They store large datasets\n",
            "  B. They provide access to LLM functionalities\n",
            "  C. They analyze user behavior\n",
            "  D. They create visual content\n",
            "\n",
            "Correct Answer: They provide access to LLM functionalities\n",
            "\n",
            "Question 10:\n",
            "Question: What is one challenge associated with deploying LLMs?\n",
            "Options:\n",
            "  A. Writing user manuals\n",
            "  B. Managing computational resources\n",
            "  C. Creating marketing strategies\n",
            "  D. Conducting market research\n",
            "\n",
            "Correct Answer: Managing computational resources\n",
            "\n"
          ]
        }
      ]
    },
    {
      "cell_type": "markdown",
      "source": [
        "###Generate Visual Questions with Educhain and Gemini\n"
      ],
      "metadata": {
        "id": "e--mhUTIF2uO"
      }
    },
    {
      "cell_type": "code",
      "source": [
        "!pip install -qU langchain-google-genai"
      ],
      "metadata": {
        "id": "M9adBHuiGZCi"
      },
      "execution_count": null,
      "outputs": []
    },
    {
      "cell_type": "code",
      "source": [
        "from langchain_google_genai import ChatGoogleGenerativeAI\n",
        "from educhain import Educhain, LLMConfig\n",
        "\n",
        "gemini_flash = ChatGoogleGenerativeAI(model=\"gemini-2.0-flash\")\n",
        "flash_config = LLMConfig(custom_model=gemini_flash)\n",
        "client = Educhain(flash_config)\n",
        "\n",
        "ques = client.qna_engine.generate_visual_questions(\n",
        "        topic=\"GMAT Statistics\", num=3\n",
        "                                      )"
      ],
      "metadata": {
        "colab": {
          "base_uri": "https://localhost:8080/",
          "height": 1000
        },
        "id": "mf8EIhxpF4Dc",
        "outputId": "0be20071-0f9e-4a62-bb1b-194120a88c07"
      },
      "execution_count": null,
      "outputs": [
        {
          "output_type": "display_data",
          "data": {
            "text/plain": [
              "<IPython.core.display.HTML object>"
            ],
            "text/html": [
              "<img src=\"data:image/png;base64,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\" style=\"max-width:500px; max-height:400px;\">"
            ]
          },
          "metadata": {}
        },
        {
          "output_type": "stream",
          "name": "stdout",
          "text": [
            "\n",
            "Question: The following scatter plot shows the time spent studying (in hours) versus the GMAT score for 10 students. Based on the scatter plot, which of the following is the closest estimate of the GMAT score for a student who studied for 7 hours?\n",
            "A. 550\n",
            "B. 600\n",
            "C. 650\n",
            "D. 700\n",
            "Correct Answer: 700\n",
            "--------------------------------------------------------------------------------\n",
            "question='The following scatter plot shows the time spent studying (in hours) versus the GMAT score for 10 students. Based on the scatter plot, which of the following is the closest estimate of the GMAT score for a student who studied for 7 hours?' answer='700' explanation='Examine the scatter plot. Find the data point closest to 7 hours on the x-axis. The corresponding y-value (GMAT score) is approximately 700.' options=['550', '600', '650', '700'] graph_instruction=GraphInstruction(type='scatter', x_labels=None, x_values=[2, 3, 4, 4.5, 5, 6, 6.5, 7.5, 8, 9], y_values=[450, 500, 520, 580, 600, 620, 680, 720, 750, 800], labels=None, sizes=None, y_label='GMAT Score', title='Study Time vs. GMAT Score', data=None)\n"
          ]
        },
        {
          "output_type": "display_data",
          "data": {
            "text/plain": [
              "<IPython.core.display.HTML object>"
            ],
            "text/html": [
              "<img src=\"data:image/png;base64,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\" style=\"max-width:500px; max-height:400px;\">"
            ]
          },
          "metadata": {}
        },
        {
          "output_type": "stream",
          "name": "stdout",
          "text": [
            "\n",
            "Question: A survey was conducted among GMAT test-takers about their preferred study methods. The pie chart below shows the distribution of preferred study methods. If 200 test-takers preferred using practice questions, how many test-takers were surveyed in total?\n",
            "A. 500\n",
            "B. 600\n",
            "C. 700\n",
            "D. 800\n",
            "Correct Answer: 800\n",
            "--------------------------------------------------------------------------------\n",
            "question='A survey was conducted among GMAT test-takers about their preferred study methods. The pie chart below shows the distribution of preferred study methods. If 200 test-takers preferred using practice questions, how many test-takers were surveyed in total?' answer='800' explanation='Practice questions represent 25% of the pie chart. If 200 test-takers represent 25%, then the total number of test-takers is (200 / 0.25) = 800.' options=['500', '600', '700', '800'] graph_instruction=GraphInstruction(type='pie', x_labels=None, x_values=None, y_values=None, labels=['Practice Questions', 'Tutoring', 'Study Groups', 'Online Courses'], sizes=[25.0, 20.0, 30.0, 25.0], y_label=None, title='Preferred GMAT Study Methods', data=None)\n"
          ]
        },
        {
          "output_type": "display_data",
          "data": {
            "text/plain": [
              "<IPython.core.display.HTML object>"
            ],
            "text/html": [
              "<img src=\"data:image/png;base64,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\" style=\"max-width:500px; max-height:400px;\">"
            ]
          },
          "metadata": {}
        },
        {
          "output_type": "stream",
          "name": "stdout",
          "text": [
            "\n",
            "Question: The bar graph below shows the number of students enrolled in different GMAT prep courses. What is the difference between the number of students enrolled in the 'Quantitative Reasoning' course and the 'Verbal Reasoning' course?\n",
            "A. 20\n",
            "B. 30\n",
            "C. 40\n",
            "D. 50\n",
            "Correct Answer: 20\n",
            "--------------------------------------------------------------------------------\n",
            "question=\"The bar graph below shows the number of students enrolled in different GMAT prep courses. What is the difference between the number of students enrolled in the 'Quantitative Reasoning' course and the 'Verbal Reasoning' course?\" answer='20' explanation=\"The 'Quantitative Reasoning' course has 120 students, and the 'Verbal Reasoning' course has 100 students. The difference is 120 - 100 = 20.\" options=['20', '30', '40', '50'] graph_instruction=GraphInstruction(type='bar', x_labels=['Quantitative Reasoning', 'Verbal Reasoning', 'Integrated Reasoning', 'Analytical Writing'], x_values=None, y_values=[120, 100, 80, 60], labels=None, sizes=None, y_label='Number of Students', title='GMAT Prep Course Enrollment', data=None)\n"
          ]
        }
      ]
    },
    {
      "cell_type": "markdown",
      "source": [
        "###Solve Problems Using Images"
      ],
      "metadata": {
        "id": "DBuY4En58Nvi"
      }
    },
    {
      "cell_type": "code",
      "source": [
        "from educhain import Educhain\n",
        "\n",
        "client = Educhain() #Default is 4o-mini (make sure to use a multimodal LLM!)\n",
        "\n",
        "question = client.qna_engine.solve_doubt(\n",
        "    image_source=\"https://i.ytimg.com/vi/OQjkFQAIOck/maxresdefault.jpg\",\n",
        "    prompt=\"Explain the diagram in detail\",\n",
        "    detail_level = \"High\"\n",
        "    )\n",
        "\n",
        "print(question)"
      ],
      "metadata": {
        "colab": {
          "base_uri": "https://localhost:8080/"
        },
        "id": "JGDd-tK18ROX",
        "outputId": "512f5d07-2a0c-45ca-c869-9ac944fd4a5b"
      },
      "execution_count": null,
      "outputs": [
        {
          "output_type": "stream",
          "name": "stdout",
          "text": [
            "explanation='The diagram presents a multiplication problem where the question is asking for the product of 6 and 8. The four answer choices provided are A. 45, B. 48, C. 42, and D. 84. To find the correct answer, we need to perform the multiplication operation of 6 times 8.' steps=['Identify the numbers in the multiplication problem: 6 and 8.', 'Multiply 6 by 8: 6 × 8.', 'Calculate the product: 6 × 8 = 48.', 'Compare the calculated product with the provided answer choices.', 'The correct answer is B. 48.'] additional_notes=\"When solving multiplication problems, it can be helpful to memorize multiplication tables, as they can speed up the calculation process. It's also useful to double-check your work to ensure accuracy.\"\n"
          ]
        }
      ]
    },
    {
      "cell_type": "code",
      "source": [
        "question.show()"
      ],
      "metadata": {
        "colab": {
          "base_uri": "https://localhost:8080/"
        },
        "id": "E484dqAJ9ATi",
        "outputId": "56a55297-c702-4855-ef37-74a9a1606f23"
      },
      "execution_count": null,
      "outputs": [
        {
          "output_type": "stream",
          "name": "stdout",
          "text": [
            "\n",
            "=== Problem Explanation ===\n",
            "The diagram presents a multiplication problem where the question is asking for the product of 6 and 8. The four answer choices provided are A. 45, B. 48, C. 42, and D. 84. To find the correct answer, we need to perform the multiplication operation of 6 times 8.\n",
            "\n",
            "=== Solution Steps ===\n",
            "1. Identify the numbers in the multiplication problem: 6 and 8.\n",
            "2. Multiply 6 by 8: 6 × 8.\n",
            "3. Calculate the product: 6 × 8 = 48.\n",
            "4. Compare the calculated product with the provided answer choices.\n",
            "5. The correct answer is B. 48.\n",
            "\n",
            "=== Additional Notes ===\n",
            "When solving multiplication problems, it can be helpful to memorize multiplication tables, as they can speed up the calculation process. It's also useful to double-check your work to ensure accuracy.\n"
          ]
        }
      ]
    },
    {
      "cell_type": "markdown",
      "source": [
        "###Generate Questions from YouTube Videos"
      ],
      "metadata": {
        "id": "EyVJswVv9PAK"
      }
    },
    {
      "cell_type": "code",
      "source": [
        "from educhain import Educhain\n",
        "\n",
        "client = Educhain()\n",
        "\n",
        "# Basic usage - Generate 10 MCQs from a YouTube video\n",
        "questions = client.qna_engine.generate_questions_from_youtube(\n",
        "    url=\"https://www.youtube.com/watch?v=sLLPAy8sT_8\",\n",
        "    num=10\n",
        ")\n",
        "questions.model_dump_json()"
      ],
      "metadata": {
        "colab": {
          "base_uri": "https://localhost:8080/",
          "height": 143
        },
        "id": "HzMGab_59P_3",
        "outputId": "21c01205-224a-47b4-acf8-a12f581028c2"
      },
      "execution_count": null,
      "outputs": [
        {
          "output_type": "execute_result",
          "data": {
            "text/plain": [
              "'{\"questions\":[{\"question\":\"What is one of the key messages about youth mentioned in the speech?\",\"answer\":\"You are not too young to do something great.\",\"explanation\":null,\"options\":[\"You are not too young to do something great.\",\"You should wait until you are older to start your career.\",\"Youth is a disadvantage in business.\",\"You should follow the traditional paths laid out for you.\"]},{\"question\":\"What did the speaker suggest is crucial for success?\",\"answer\":\"You have to love what you do.\",\"explanation\":null,\"options\":[\"You have to love what you do.\",\"You should only focus on making money.\",\"You need to follow what others do.\",\"You should avoid hard work.\"]},{\"question\":\"According to the speaker, what should you do if you want to achieve great things?\",\"answer\":\"Think big.\",\"explanation\":null,\"options\":[\"Think small.\",\"Think big.\",\"Avoid taking risks.\",\"Stay within your comfort zone.\"]},{\"question\":\"What does the speaker say about hard work?\",\"answer\":\"The harder I work, the luckier I get.\",\"explanation\":null,\"options\":[\"The harder I work, the more I fail.\",\"The harder I work, the luckier I get.\",\"Hard work is overrated.\",\"Luck is more important than hard work.\"]},{\"question\":\"What lesson does the speaker share about momentum?\",\"answer\":\"Don\\'t lose your momentum.\",\"explanation\":null,\"options\":[\"You should take breaks often.\",\"Don\\'t lose your momentum.\",\"Momentum is not important for success.\",\"You can afford to relax once successful.\"]},{\"question\":\"What does the speaker believe is necessary to change the world?\",\"answer\":\"The courage to be an outsider.\",\"explanation\":null,\"options\":[\"The courage to be an outsider.\",\"Conform to societal norms.\",\"Stay within your comfort zone.\",\"Follow the traditional paths.\"]},{\"question\":\"What was one of the examples of young success mentioned by the speaker?\",\"answer\":\"Steve Jobs founded Apple at 21.\",\"explanation\":null,\"options\":[\"Walt Disney founded Disney at 21.\",\"Steve Jobs founded Apple at 21.\",\"James Madison was a president at 30.\",\"All of the above.\"]},{\"question\":\"What does the speaker emphasize about treating your work?\",\"answer\":\"Treat every day like a home game.\",\"explanation\":null,\"options\":[\"Treat every day like a vacation.\",\"Treat every day like a home game.\",\"Work should always be taken lightly.\",\"Avoid taking your work seriously.\"]},{\"question\":\"What does the speaker suggest about feedback?\",\"answer\":\"Listen to the feedback.\",\"explanation\":null,\"options\":[\"Ignore all feedback.\",\"Listen to the feedback.\",\"Only trust feedback from friends.\",\"Feedback is unnecessary.\"]},{\"question\":\"According to the speaker, what should you do if you feel you are losing momentum?\",\"answer\":\"Stop and reassess.\",\"explanation\":null,\"options\":[\"Keep pushing through no matter what.\",\"Stop and reassess.\",\"Ignore those feelings.\",\"Seek advice from everyone.\"]}]}'"
            ],
            "application/vnd.google.colaboratory.intrinsic+json": {
              "type": "string"
            }
          },
          "metadata": {},
          "execution_count": 70
        }
      ]
    },
    {
      "cell_type": "code",
      "source": [
        "questions.show()"
      ],
      "metadata": {
        "colab": {
          "base_uri": "https://localhost:8080/"
        },
        "id": "XIQ-1hq99dIj",
        "outputId": "12b3d01e-fb9b-4216-e6ad-7aa647ca4a2c"
      },
      "execution_count": null,
      "outputs": [
        {
          "output_type": "stream",
          "name": "stdout",
          "text": [
            "Question 1:\n",
            "Question: What is one of the key messages about youth mentioned in the speech?\n",
            "Options:\n",
            "  A. You are not too young to do something great.\n",
            "  B. You should wait until you are older to start your career.\n",
            "  C. Youth is a disadvantage in business.\n",
            "  D. You should follow the traditional paths laid out for you.\n",
            "\n",
            "Correct Answer: You are not too young to do something great.\n",
            "\n",
            "Question 2:\n",
            "Question: What did the speaker suggest is crucial for success?\n",
            "Options:\n",
            "  A. You have to love what you do.\n",
            "  B. You should only focus on making money.\n",
            "  C. You need to follow what others do.\n",
            "  D. You should avoid hard work.\n",
            "\n",
            "Correct Answer: You have to love what you do.\n",
            "\n",
            "Question 3:\n",
            "Question: According to the speaker, what should you do if you want to achieve great things?\n",
            "Options:\n",
            "  A. Think small.\n",
            "  B. Think big.\n",
            "  C. Avoid taking risks.\n",
            "  D. Stay within your comfort zone.\n",
            "\n",
            "Correct Answer: Think big.\n",
            "\n",
            "Question 4:\n",
            "Question: What does the speaker say about hard work?\n",
            "Options:\n",
            "  A. The harder I work, the more I fail.\n",
            "  B. The harder I work, the luckier I get.\n",
            "  C. Hard work is overrated.\n",
            "  D. Luck is more important than hard work.\n",
            "\n",
            "Correct Answer: The harder I work, the luckier I get.\n",
            "\n",
            "Question 5:\n",
            "Question: What lesson does the speaker share about momentum?\n",
            "Options:\n",
            "  A. You should take breaks often.\n",
            "  B. Don't lose your momentum.\n",
            "  C. Momentum is not important for success.\n",
            "  D. You can afford to relax once successful.\n",
            "\n",
            "Correct Answer: Don't lose your momentum.\n",
            "\n",
            "Question 6:\n",
            "Question: What does the speaker believe is necessary to change the world?\n",
            "Options:\n",
            "  A. The courage to be an outsider.\n",
            "  B. Conform to societal norms.\n",
            "  C. Stay within your comfort zone.\n",
            "  D. Follow the traditional paths.\n",
            "\n",
            "Correct Answer: The courage to be an outsider.\n",
            "\n",
            "Question 7:\n",
            "Question: What was one of the examples of young success mentioned by the speaker?\n",
            "Options:\n",
            "  A. Walt Disney founded Disney at 21.\n",
            "  B. Steve Jobs founded Apple at 21.\n",
            "  C. James Madison was a president at 30.\n",
            "  D. All of the above.\n",
            "\n",
            "Correct Answer: Steve Jobs founded Apple at 21.\n",
            "\n",
            "Question 8:\n",
            "Question: What does the speaker emphasize about treating your work?\n",
            "Options:\n",
            "  A. Treat every day like a vacation.\n",
            "  B. Treat every day like a home game.\n",
            "  C. Work should always be taken lightly.\n",
            "  D. Avoid taking your work seriously.\n",
            "\n",
            "Correct Answer: Treat every day like a home game.\n",
            "\n",
            "Question 9:\n",
            "Question: What does the speaker suggest about feedback?\n",
            "Options:\n",
            "  A. Ignore all feedback.\n",
            "  B. Listen to the feedback.\n",
            "  C. Only trust feedback from friends.\n",
            "  D. Feedback is unnecessary.\n",
            "\n",
            "Correct Answer: Listen to the feedback.\n",
            "\n",
            "Question 10:\n",
            "Question: According to the speaker, what should you do if you feel you are losing momentum?\n",
            "Options:\n",
            "  A. Keep pushing through no matter what.\n",
            "  B. Stop and reassess.\n",
            "  C. Ignore those feelings.\n",
            "  D. Seek advice from everyone.\n",
            "\n",
            "Correct Answer: Stop and reassess.\n",
            "\n"
          ]
        }
      ]
    },
    {
      "cell_type": "code",
      "source": [
        "!pip install mcp --quiet  # Install MCP SDK if not already installed\n",
        "\n",
        "import json\n",
        "from mcp import MCPServer, Tool, Resource, Message\n",
        "from educhain import generate_mcq, generate_lesson_plan\n",
        "\n",
        "# Define MCP Tool: MCQ Generator\n",
        "class MCQTool(Tool):\n",
        "    def __init__(self):\n",
        "        super().__init__(\n",
        "            name=\"generate_mcq_tool\",\n",
        "            description=\"Generates MCQs for a given topic\"\n",
        "        )\n",
        "\n",
        "    def run(self, input_text: str) -> str:\n",
        "        mcqs = generate_mcq(input_text)\n",
        "        return json.dumps({\"topic\": input_text, \"mcqs\": mcqs}, indent=2)\n",
        "\n",
        "# Define MCP Resource: Lesson Plan Generator\n",
        "class LessonPlanResource(Resource):\n",
        "    def __init__(self):\n",
        "        super().__init__(\n",
        "            name=\"generate_lesson_plan_resource\",\n",
        "            description=\"Returns a lesson plan for a given subject\"\n",
        "        )\n",
        "\n",
        "    def get(self, input_text: str) -> str:\n",
        "        plan = generate_lesson_plan(input_text)\n",
        "        return json.dumps({\"subject\": input_text, \"lesson_plan\": plan}, indent=2)\n",
        "\n",
        "# Initialize MCP Server with Tool and Resource\n",
        "server = MCPServer(\n",
        "    tools=[MCQTool()],\n",
        "    resources=[LessonPlanResource()]\n",
        ")\n",
        "\n",
        "# Launch MCP Server\n",
        "server.run()\n"
      ],
      "metadata": {
        "id": "Y6b6cfOko43R"
      },
      "execution_count": null,
      "outputs": []
    },
    {
      "cell_type": "code",
      "source": [
        "!pip install pyngrok --quiet\n",
        "from pyngrok import ngrok\n",
        "\n",
        "public_url = ngrok.connect(8000)\n",
        "print(f\"Public MCP Server URL: {public_url}\")"
      ],
      "metadata": {
        "id": "LGpjhcKhSbOu"
      },
      "execution_count": null,
      "outputs": []
    }
  ]
}